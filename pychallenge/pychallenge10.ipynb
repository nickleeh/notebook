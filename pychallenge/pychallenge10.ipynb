{
 "cells": [
  {
   "cell_type": "markdown",
   "metadata": {},
   "source": [
    "`username: huge\n",
    "password: file`"
   ]
  },
  {
   "cell_type": "code",
   "execution_count": 46,
   "metadata": {
    "collapsed": true
   },
   "outputs": [],
   "source": [
    "import itertools"
   ]
  },
  {
   "cell_type": "code",
   "execution_count": 47,
   "metadata": {
    "collapsed": true
   },
   "outputs": [],
   "source": [
    "def look_and_say (length):\n",
    "    table = {\n",
    "        (\"1\", \"1\", \"1\"): \"31\",\n",
    "        (\"1\", \"1\"): \"21\",\n",
    "        (\"1\", ): \"11\",\n",
    "        (\"2\", \"2\", \"2\"): \"32\",\n",
    "        (\"2\", \"2\"): \"22\",\n",
    "        (\"2\", ): \"12\",\n",
    "        (\"3\", \"3\", \"3\"): \"33\",\n",
    "        (\"3\", \"3\"): \"23\",\n",
    "        (\"3\", ): \"13\"\n",
    "    }\n",
    "\n",
    "    prec, result = \"1\", [1]\n",
    "\n",
    "    for i in range(length - 1):\n",
    "        prec = \"\".join(table[tuple(l)] for e, l in itertools.groupby(prec))\n",
    "        result.append(int(prec))\n",
    "\n",
    "    return result"
   ]
  },
  {
   "cell_type": "code",
   "execution_count": 48,
   "metadata": {
    "collapsed": false
   },
   "outputs": [
    {
     "name": "stdout",
     "output_type": "stream",
     "text": [
      "5808\n"
     ]
    }
   ],
   "source": [
    "print(len(str(look_and_say(31)[30])))"
   ]
  },
  {
   "cell_type": "code",
   "execution_count": null,
   "metadata": {
    "collapsed": true
   },
   "outputs": [],
   "source": []
  }
 ],
 "metadata": {
  "kernelspec": {
   "display_name": "Python 3",
   "language": "python",
   "name": "python3"
  },
  "language_info": {
   "codemirror_mode": {
    "name": "ipython",
    "version": 3
   },
   "file_extension": ".py",
   "mimetype": "text/x-python",
   "name": "python",
   "nbconvert_exporter": "python",
   "pygments_lexer": "ipython3",
   "version": "3.5.1"
  }
 },
 "nbformat": 4,
 "nbformat_minor": 0
}
