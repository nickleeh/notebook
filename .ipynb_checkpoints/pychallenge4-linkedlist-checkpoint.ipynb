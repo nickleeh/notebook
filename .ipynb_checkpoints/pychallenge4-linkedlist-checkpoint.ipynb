{
 "cells": [
  {
   "cell_type": "code",
   "execution_count": 30,
   "metadata": {
    "collapsed": true
   },
   "outputs": [],
   "source": [
    "import requests,re"
   ]
  },
  {
   "cell_type": "code",
   "execution_count": 31,
   "metadata": {
    "collapsed": true
   },
   "outputs": [],
   "source": [
    "base_url = 'http://www.pythonchallenge.com/pc/def/linkedlist.php?nothing='"
   ]
  },
  {
   "cell_type": "code",
   "execution_count": 32,
   "metadata": {
    "collapsed": true
   },
   "outputs": [],
   "source": [
    "nothing_regex = 'and the next nothing is (\\d+)'"
   ]
  },
  {
   "cell_type": "code",
   "execution_count": 35,
   "metadata": {
    "collapsed": true
   },
   "outputs": [],
   "source": [
    "# nothing = '12345'\n",
    "nothing = str(16044/2)"
   ]
  },
  {
   "cell_type": "code",
   "execution_count": 36,
   "metadata": {
    "collapsed": false
   },
   "outputs": [
    {
     "name": "stdout",
     "output_type": "stream",
     "text": [
      "25357\n",
      "89879\n",
      "80119\n",
      "50290\n",
      "9297\n",
      "30571\n",
      "7414\n",
      "30978\n",
      "16408\n",
      "80109\n",
      "55736\n",
      "15357\n",
      "80887\n",
      "35014\n",
      "16523\n",
      "50286\n",
      "34813\n",
      "77562\n",
      "54746\n",
      "22680\n",
      "19705\n",
      "77000\n",
      "27634\n",
      "21008\n",
      "64994\n",
      "66109\n",
      "37855\n",
      "36383\n",
      "68548\n",
      "96070\n",
      "83051\n",
      "58026\n",
      "44726\n",
      "35748\n",
      "61287\n",
      "559\n",
      "81318\n",
      "50443\n",
      "1570\n",
      "75244\n",
      "56265\n",
      "17694\n",
      "48033\n",
      "56523\n",
      "51253\n",
      "85750\n",
      "42760\n",
      "11877\n",
      "15962\n",
      "75494\n",
      "87283\n",
      "40396\n",
      "49574\n",
      "82682\n",
      "63579\n",
      "37278\n",
      "53548\n",
      "66081\n",
      "67753\n",
      "56337\n",
      "3356\n",
      "94525\n",
      "89574\n",
      "4413\n",
      "82294\n",
      "56060\n",
      "95493\n",
      "80865\n",
      "66242\n",
      "16065\n",
      "62145\n",
      "23147\n",
      "83763\n",
      "62381\n",
      "76841\n",
      "91706\n",
      "9268\n",
      "64814\n",
      "80809\n",
      "14039\n",
      "73355\n",
      "81905\n",
      "36402\n",
      "27221\n",
      "79607\n",
      "91763\n",
      "11631\n",
      "76396\n",
      "69905\n",
      "11073\n",
      "71281\n",
      "54345\n",
      "19047\n",
      "34376\n",
      "3193\n",
      "74258\n",
      "62712\n",
      "1823\n",
      "21232\n",
      "87890\n",
      "21545\n",
      "37136\n",
      "23060\n",
      "5385\n",
      "4620\n",
      "39111\n",
      "35914\n",
      "60310\n",
      "19178\n",
      "44671\n",
      "45736\n",
      "9216\n",
      "12585\n",
      "11302\n",
      "33096\n",
      "13967\n",
      "57004\n",
      "64196\n",
      "73929\n",
      "24800\n",
      "25081\n",
      "90033\n",
      "45919\n",
      "54827\n",
      "73950\n",
      "56978\n",
      "8133\n",
      "61900\n",
      "47769\n",
      "631\n",
      "2284\n",
      "60074\n",
      "35959\n",
      "57158\n",
      "90990\n",
      "27935\n",
      "99927\n",
      "41785\n",
      "32660\n",
      "4328\n",
      "42067\n",
      "8743\n",
      "38613\n",
      "21100\n",
      "77864\n",
      "6523\n",
      "6927\n",
      "82930\n",
      "35846\n",
      "31785\n",
      "41846\n",
      "72387\n",
      "59334\n",
      "65520\n",
      "93781\n",
      "55840\n",
      "80842\n",
      "59022\n",
      "23298\n",
      "27709\n",
      "96791\n",
      "75635\n",
      "52899\n",
      "66831\n"
     ]
    }
   ],
   "source": [
    "while True:\n",
    "    try:\n",
    "        res = requests.get(base_url+nothing).content.decode('utf_8')\n",
    "        nothing = re.search(nothing_regex, res).group(1)\n",
    "    except:\n",
    "        break\n",
    "    print(nothing)"
   ]
  },
  {
   "cell_type": "code",
   "execution_count": null,
   "metadata": {
    "collapsed": true
   },
   "outputs": [],
   "source": []
  }
 ],
 "metadata": {
  "kernelspec": {
   "display_name": "Python 3",
   "language": "python",
   "name": "python3"
  },
  "language_info": {
   "codemirror_mode": {
    "name": "ipython",
    "version": 3
   },
   "file_extension": ".py",
   "mimetype": "text/x-python",
   "name": "python",
   "nbconvert_exporter": "python",
   "pygments_lexer": "ipython3",
   "version": "3.5.1"
  }
 },
 "nbformat": 4,
 "nbformat_minor": 0
}
