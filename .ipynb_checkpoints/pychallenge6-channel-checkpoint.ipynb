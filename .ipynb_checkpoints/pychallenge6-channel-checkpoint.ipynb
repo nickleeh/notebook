{
 "cells": [
  {
   "cell_type": "code",
   "execution_count": 2,
   "metadata": {
    "collapsed": true
   },
   "outputs": [],
   "source": [
    "import zipfile, re\n",
    "number = '90052'\n",
    "num_regex = 'Next nothing is (\\d+)'\n",
    "output = [] # for the second part of the question."
   ]
  },
  {
   "cell_type": "code",
   "execution_count": 4,
   "metadata": {
    "collapsed": false
   },
   "outputs": [],
   "source": [
    "file = zipfile.ZipFile('../Downloads/channel.zip')"
   ]
  },
  {
   "cell_type": "code",
   "execution_count": 5,
   "metadata": {
    "collapsed": false
   },
   "outputs": [
    {
     "name": "stdout",
     "output_type": "stream",
     "text": [
      "b'Collect the comments.'\n"
     ]
    }
   ],
   "source": [
    "while True:\n",
    "    try:\n",
    "        number = re.search(num_regex, file.read(number+'.txt').decode('utf_8')).group(1)\n",
    "    except:\n",
    "        print(file.read(number + '.txt'))\n",
    "        break\n",
    "    output.append(file.getinfo(number + '.txt').comment)"
   ]
  },
  {
   "cell_type": "code",
   "execution_count": 6,
   "metadata": {
    "collapsed": false
   },
   "outputs": [
    {
     "name": "stdout",
     "output_type": "stream",
     "text": [
      "***************************************************************\n",
      "****************************************************************\n",
      "**                                                            **\n",
      "**   OO    OO    XX      YYYY    GG    GG  EEEEEE NN      NN  **\n",
      "**   OO    OO  XXXXXX   YYYYYY   GG   GG   EEEEEE  NN    NN   **\n",
      "**   OO    OO XXX  XXX YYY   YY  GG GG     EE       NN  NN    **\n",
      "**   OOOOOOOO XX    XX YY        GGG       EEEEE     NNNN     **\n",
      "**   OOOOOOOO XX    XX YY        GGG       EEEEE      NN      **\n",
      "**   OO    OO XXX  XXX YYY   YY  GG GG     EE         NN      **\n",
      "**   OO    OO  XXXXXX   YYYYYY   GG   GG   EEEEEE     NN      **\n",
      "**   OO    OO    XX      YYYY    GG    GG  EEEEEE     NN      **\n",
      "**                                                            **\n",
      "****************************************************************\n",
      " **************************************************************\n",
      "\n"
     ]
    }
   ],
   "source": [
    "print(''.join(x.decode('utf_8') for x in output))"
   ]
  }
 ],
 "metadata": {
  "kernelspec": {
   "display_name": "Python 3",
   "language": "python",
   "name": "python3"
  },
  "language_info": {
   "codemirror_mode": {
    "name": "ipython",
    "version": 3
   },
   "file_extension": ".py",
   "mimetype": "text/x-python",
   "name": "python",
   "nbconvert_exporter": "python",
   "pygments_lexer": "ipython3",
   "version": "3.5.1"
  }
 },
 "nbformat": 4,
 "nbformat_minor": 0
}
