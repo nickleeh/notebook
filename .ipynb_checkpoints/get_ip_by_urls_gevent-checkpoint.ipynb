{
 "cells": [
  {
   "cell_type": "code",
   "execution_count": 3,
   "metadata": {
    "collapsed": false
   },
   "outputs": [],
   "source": [
    "import gevent\n",
    "from gevent import socket\n",
    "\n",
    "def get_ip_by_urls(urls):\n",
    "    jobs = [gevent.spawn(socket.gethostbyname, url) for url in urls]\n",
    "    gevent.joinall(jobs, timeout=1)\n",
    "    ip = [job.value for job in jobs]\n",
    "    return zip(urls, ip)"
   ]
  },
  {
   "cell_type": "code",
   "execution_count": 4,
   "metadata": {
    "collapsed": true
   },
   "outputs": [],
   "source": [
    "urls = ['www.example.com', \n",
    "        'www.python.org', \n",
    "        'www.bing.com', \n",
    "        'www.buddybj.com', \n",
    "        'www.ibm.com', \n",
    "        'www.163.com',\n",
    "        'www.oschina.net',\n",
    "        'www.reddit.com',\n",
    "        'www.stackoverflow.com',\n",
    "        'www.qq.com',\n",
    "        'www.microsoft.com',\n",
    "        'www.moe.edu.cn',\n",
    "        'www.eastmoney.com',\n",
    "        'www.dianping.com',\n",
    "        'www.yahoo.com',\n",
    "        'www.autohome.com.cn',\n",
    "        'www.github.com',\n",
    "        'www.alibaba.com',\n",
    "        'www.tsinghua.edu.cn',\n",
    "        'www.pku.edu.cn',\n",
    "        'www.bjtu.edu.cn',\n",
    "        'www.sina.com.cn',\n",
    "        'www.sohu.com']"
   ]
  },
  {
   "cell_type": "code",
   "execution_count": 6,
   "metadata": {
    "collapsed": false,
    "scrolled": false
   },
   "outputs": [
    {
     "name": "stdout",
     "output_type": "stream",
     "text": [
      "www.example.com           93.184.216.34\n",
      "www.python.org            103.245.222.223\n",
      "www.bing.com              202.89.233.103\n",
      "www.buddybj.com           211.154.163.189\n",
      "www.ibm.com               182.118.82.43\n",
      "www.163.com               125.39.109.103\n",
      "www.oschina.net           180.97.161.45\n",
      "www.reddit.com            198.41.209.136\n",
      "www.stackoverflow.com     104.16.33.249\n",
      "www.qq.com                182.254.18.159\n",
      "www.microsoft.com         23.42.136.154\n",
      "www.moe.edu.cn            114.247.107.71\n",
      "www.eastmoney.com         60.207.246.98\n",
      "www.dianping.com          180.153.132.49\n",
      "www.yahoo.com             116.214.12.74\n",
      "www.autohome.com.cn       124.202.166.57\n",
      "www.github.com            192.30.252.123\n",
      "www.alibaba.com           140.205.94.232\n",
      "www.tsinghua.edu.cn       166.111.4.100\n",
      "www.pku.edu.cn            124.205.79.130\n",
      "www.bjtu.edu.cn           202.112.154.27\n",
      "www.sina.com.cn           218.30.108.182\n",
      "www.sohu.com              118.244.253.65\n",
      "Wall time: 213 ms\n"
     ]
    }
   ],
   "source": [
    "%%time\n",
    "for i in get_ip_by_urls(urls):\n",
    "    print('{0:25} {1}'.format(i[0], i[1]))"
   ]
  },
  {
   "cell_type": "code",
   "execution_count": null,
   "metadata": {
    "collapsed": true
   },
   "outputs": [],
   "source": []
  }
 ],
 "metadata": {
  "kernelspec": {
   "display_name": "Python 3",
   "language": "python",
   "name": "python3"
  },
  "language_info": {
   "codemirror_mode": {
    "name": "ipython",
    "version": 3
   },
   "file_extension": ".py",
   "mimetype": "text/x-python",
   "name": "python",
   "nbconvert_exporter": "python",
   "pygments_lexer": "ipython3",
   "version": "3.5.1"
  },
  "toc": {
   "toc_cell": false,
   "toc_number_sections": true,
   "toc_threshold": 6,
   "toc_window_display": false
  }
 },
 "nbformat": 4,
 "nbformat_minor": 0
}
