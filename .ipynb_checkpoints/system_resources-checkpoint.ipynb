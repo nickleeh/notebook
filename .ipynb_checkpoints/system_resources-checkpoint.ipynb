{
 "cells": [
  {
   "cell_type": "code",
   "execution_count": 50,
   "metadata": {
    "collapsed": false
   },
   "outputs": [],
   "source": [
    "from lib.sizeof_fmt import sizeof_fmt"
   ]
  },
  {
   "cell_type": "markdown",
   "metadata": {},
   "source": [
    "# Number of processers:"
   ]
  },
  {
   "cell_type": "code",
   "execution_count": 51,
   "metadata": {
    "collapsed": true
   },
   "outputs": [],
   "source": [
    "import os"
   ]
  },
  {
   "cell_type": "code",
   "execution_count": 52,
   "metadata": {
    "collapsed": false
   },
   "outputs": [
    {
     "data": {
      "text/plain": [
       "2"
      ]
     },
     "execution_count": 52,
     "metadata": {},
     "output_type": "execute_result"
    }
   ],
   "source": [
    "os.cpu_count()"
   ]
  },
  {
   "cell_type": "markdown",
   "metadata": {},
   "source": [
    "# CPU usage:"
   ]
  },
  {
   "cell_type": "code",
   "execution_count": 104,
   "metadata": {
    "collapsed": false
   },
   "outputs": [],
   "source": [
    "import psutil"
   ]
  },
  {
   "cell_type": "code",
   "execution_count": 106,
   "metadata": {
    "collapsed": false
   },
   "outputs": [
    {
     "data": {
      "text/plain": [
       "16.2"
      ]
     },
     "execution_count": 106,
     "metadata": {},
     "output_type": "execute_result"
    }
   ],
   "source": [
    "psutil.cpu_percent()"
   ]
  },
  {
   "cell_type": "markdown",
   "metadata": {},
   "source": [
    "# Disk usage:"
   ]
  },
  {
   "cell_type": "code",
   "execution_count": 97,
   "metadata": {
    "collapsed": false
   },
   "outputs": [],
   "source": [
    "def disk_usage_of(driver):\n",
    "    usage = psutil.disk_usage(driver)\n",
    "\n",
    "    total = sizeof_fmt(usage.total)\n",
    "    free = sizeof_fmt(usage.free)\n",
    "\n",
    "    print(\"Drive {}\".format(driver))\n",
    "    print(\"Total: {}\".format(total))\n",
    "    print(\"Free: {}\".format(free))\n",
    "    print(\"---------------------------\")"
   ]
  },
  {
   "cell_type": "code",
   "execution_count": 98,
   "metadata": {
    "collapsed": false
   },
   "outputs": [
    {
     "data": {
      "text/plain": [
       "[sdiskpart(device='C:\\\\', mountpoint='C:\\\\', fstype='NTFS', opts='rw,fixed'),\n",
       " sdiskpart(device='D:\\\\', mountpoint='D:\\\\', fstype='FAT32', opts='rw,removable'),\n",
       " sdiskpart(device='E:\\\\', mountpoint='E:\\\\', fstype='', opts='cdrom'),\n",
       " sdiskpart(device='G:\\\\', mountpoint='G:\\\\', fstype='NTFS', opts='rw,fixed'),\n",
       " sdiskpart(device='H:\\\\', mountpoint='H:\\\\', fstype='NTFS', opts='rw,fixed')]"
      ]
     },
     "execution_count": 98,
     "metadata": {},
     "output_type": "execute_result"
    }
   ],
   "source": [
    "psutil.disk_partitions()"
   ]
  },
  {
   "cell_type": "code",
   "execution_count": 101,
   "metadata": {
    "collapsed": false,
    "scrolled": true
   },
   "outputs": [],
   "source": [
    "drivers = [it.device for it in  psutil.disk_partitions() if it.fstype=='NTFS' or it.fstype=='FAT32'] "
   ]
  },
  {
   "cell_type": "code",
   "execution_count": 102,
   "metadata": {
    "collapsed": false
   },
   "outputs": [
    {
     "name": "stdout",
     "output_type": "stream",
     "text": [
      "Drive C:\\\n",
      "Total: 111.69 GiB\n",
      "Free: 45.62 GiB\n",
      "---------------------------\n",
      "Drive D:\\\n",
      "Total: 115.66 GiB\n",
      "Free: 78.64 GiB\n",
      "---------------------------\n",
      "Drive G:\\\n",
      "Total: 100.00 MiB\n",
      "Free: 20.78 MiB\n",
      "---------------------------\n",
      "Drive H:\\\n",
      "Total: 465.76 GiB\n",
      "Free: 33.57 GiB\n",
      "---------------------------\n",
      "[None, None, None, None]\n"
     ]
    }
   ],
   "source": [
    "print([disk_usage_of(x) for x in drivers])"
   ]
  },
  {
   "cell_type": "markdown",
   "metadata": {},
   "source": [
    "# Memory usage:"
   ]
  },
  {
   "cell_type": "code",
   "execution_count": 60,
   "metadata": {
    "collapsed": true
   },
   "outputs": [],
   "source": [
    "mem_info = psutil.virtual_memory()"
   ]
  },
  {
   "cell_type": "code",
   "execution_count": 61,
   "metadata": {
    "collapsed": true
   },
   "outputs": [],
   "source": [
    "mem_total = sizeof_fmt(mem_info.total)\n",
    "mem_available = sizeof_fmt(mem_info.available)\n",
    "mem_percent = mem_info.percent\n",
    "mem_free = sizeof_fmt(mem_info.free)"
   ]
  },
  {
   "cell_type": "code",
   "execution_count": 62,
   "metadata": {
    "collapsed": false
   },
   "outputs": [
    {
     "name": "stdout",
     "output_type": "stream",
     "text": [
      "Memory usage:\n",
      "-------------\n",
      "Total: 3.90 GiB\n",
      "Available: 1.06 GiB\n",
      "Percent: 72.9\n",
      "Free: 1.06 GiB\n"
     ]
    }
   ],
   "source": [
    "print(\"Memory usage:\")\n",
    "print(\"-------------\")\n",
    "print(\"Total: {}\".format(mem_total))\n",
    "print(\"Available: {}\".format(mem_available))\n",
    "print(\"Percent: {}\".format(mem_percent))\n",
    "print(\"Free: {}\".format(mem_free))"
   ]
  },
  {
   "cell_type": "code",
   "execution_count": null,
   "metadata": {
    "collapsed": true
   },
   "outputs": [],
   "source": []
  }
 ],
 "metadata": {
  "kernelspec": {
   "display_name": "Python 3",
   "language": "python",
   "name": "python3"
  },
  "language_info": {
   "codemirror_mode": {
    "name": "ipython",
    "version": 3
   },
   "file_extension": ".py",
   "mimetype": "text/x-python",
   "name": "python",
   "nbconvert_exporter": "python",
   "pygments_lexer": "ipython3",
   "version": "3.5.1"
  }
 },
 "nbformat": 4,
 "nbformat_minor": 0
}
