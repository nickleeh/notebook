{
 "cells": [
  {
   "cell_type": "code",
   "execution_count": 1,
   "metadata": {
    "collapsed": true
   },
   "outputs": [],
   "source": [
    "import os"
   ]
  },
  {
   "cell_type": "code",
   "execution_count": 2,
   "metadata": {
    "collapsed": false
   },
   "outputs": [
    {
     "data": {
      "text/plain": [
       "'C:\\\\Program Files\\\\R\\\\R-3.2.5'"
      ]
     },
     "execution_count": 2,
     "metadata": {},
     "output_type": "execute_result"
    }
   ],
   "source": [
    "os.environ.get('R_HOME')"
   ]
  },
  {
   "cell_type": "code",
   "execution_count": 1,
   "metadata": {
    "collapsed": true
   },
   "outputs": [],
   "source": [
    "import psutil."
   ]
  },
  {
   "cell_type": "code",
   "execution_count": 7,
   "metadata": {
    "collapsed": false
   },
   "outputs": [],
   "source": [
    "p = psutil.process_iter()"
   ]
  },
  {
   "cell_type": "code",
   "execution_count": 8,
   "metadata": {
    "collapsed": false
   },
   "outputs": [
    {
     "data": {
      "text/plain": [
       "<psutil.Process(pid=0, name='System Idle Process') at 73871088>"
      ]
     },
     "execution_count": 8,
     "metadata": {},
     "output_type": "execute_result"
    }
   ],
   "source": [
    "next(p)"
   ]
  },
  {
   "cell_type": "code",
   "execution_count": 9,
   "metadata": {
    "collapsed": false
   },
   "outputs": [
    {
     "data": {
      "text/plain": [
       "(4, 1, 0)"
      ]
     },
     "execution_count": 9,
     "metadata": {},
     "output_type": "execute_result"
    }
   ],
   "source": [
    "psutil.version_info"
   ]
  },
  {
   "cell_type": "code",
   "execution_count": 10,
   "metadata": {
    "collapsed": true
   },
   "outputs": [
    {
     "data": {
      "text/plain": [
       "[0,\n",
       " 4,\n",
       " 236,\n",
       " 332,\n",
       " 388,\n",
       " 412,\n",
       " 436,\n",
       " 452,\n",
       " 460,\n",
       " 528,\n",
       " 628,\n",
       " 688,\n",
       " 744,\n",
       " 812,\n",
       " 876,\n",
       " 944,\n",
       " 988,\n",
       " 932,\n",
       " 1224,\n",
       " 1232,\n",
       " 1272,\n",
       " 1300,\n",
       " 1360,\n",
       " 1404,\n",
       " 1424,\n",
       " 1456,\n",
       " 1480,\n",
       " 1532,\n",
       " 1564,\n",
       " 1608,\n",
       " 1688,\n",
       " 1788,\n",
       " 1816,\n",
       " 1848,\n",
       " 1876,\n",
       " 1900,\n",
       " 1956,\n",
       " 1972,\n",
       " 2004,\n",
       " 1164,\n",
       " 1336,\n",
       " 1604,\n",
       " 1940,\n",
       " 2068,\n",
       " 2104,\n",
       " 2152,\n",
       " 2216,\n",
       " 2572,\n",
       " 2184,\n",
       " 2460,\n",
       " 2892,\n",
       " 2292,\n",
       " 3148,\n",
       " 3308,\n",
       " 3592,\n",
       " 3680,\n",
       " 3688,\n",
       " 3704,\n",
       " 3876,\n",
       " 3888,\n",
       " 3960,\n",
       " 3988,\n",
       " 4024,\n",
       " 4032,\n",
       " 3256,\n",
       " 3248,\n",
       " 3252,\n",
       " 3220,\n",
       " 3352,\n",
       " 1932,\n",
       " 3504,\n",
       " 3932,\n",
       " 2720,\n",
       " 2724,\n",
       " 3372,\n",
       " 3288,\n",
       " 4000,\n",
       " 4128,\n",
       " 4136,\n",
       " 4348,\n",
       " 4456,\n",
       " 4944,\n",
       " 5068,\n",
       " 1072,\n",
       " 4824,\n",
       " 3436,\n",
       " 4500,\n",
       " 3052,\n",
       " 3296,\n",
       " 3464,\n",
       " 1048,\n",
       " 4608,\n",
       " 4448,\n",
       " 5524,\n",
       " 5764,\n",
       " 5804,\n",
       " 5812,\n",
       " 5912,\n",
       " 3488,\n",
       " 5332,\n",
       " 5296,\n",
       " 4792,\n",
       " 6136,\n",
       " 6064,\n",
       " 3392,\n",
       " 7148,\n",
       " 3660,\n",
       " 1800,\n",
       " 4588,\n",
       " 296,\n",
       " 3676,\n",
       " 6352,\n",
       " 6356,\n",
       " 6304]"
      ]
     },
     "execution_count": 10,
     "metadata": {},
     "output_type": "execute_result"
    }
   ],
   "source": [
    "psutil.pids()"
   ]
  },
  {
   "cell_type": "code",
   "execution_count": 11,
   "metadata": {
    "collapsed": false
   },
   "outputs": [
    {
     "name": "stdout",
     "output_type": "stream",
     "text": [
      "{'name': 'System Idle Process', 'pid': 0}\n",
      "{'name': 'System', 'pid': 4}\n",
      "{'name': 'smss.exe', 'pid': 236}\n",
      "{'name': 'chrome.exe', 'pid': 296}\n",
      "{'name': 'csrss.exe', 'pid': 332}\n",
      "{'name': 'wininit.exe', 'pid': 388}\n",
      "{'name': 'csrss.exe', 'pid': 412}\n",
      "{'name': 'services.exe', 'pid': 436}\n",
      "{'name': 'lsass.exe', 'pid': 452}\n",
      "{'name': 'lsm.exe', 'pid': 460}\n",
      "{'name': 'winlogon.exe', 'pid': 528}\n",
      "{'name': 'svchost.exe', 'pid': 628}\n",
      "{'name': 'ibmpmsvc.exe', 'pid': 688}\n",
      "{'name': 'svchost.exe', 'pid': 744}\n",
      "{'name': 'svchost.exe', 'pid': 812}\n",
      "{'name': 'svchost.exe', 'pid': 876}\n",
      "{'name': 'svchost.exe', 'pid': 932}\n",
      "{'name': 'svchost.exe', 'pid': 944}\n",
      "{'name': 'svchost.exe', 'pid': 988}\n",
      "{'name': 'chrome.exe', 'pid': 1048}\n",
      "{'name': 'dllhost.exe', 'pid': 1072}\n",
      "{'name': 'pcas.exe', 'pid': 1164}\n",
      "{'name': 'spoolsv.exe', 'pid': 1224}\n",
      "{'name': 'taskeng.exe', 'pid': 1232}\n",
      "{'name': 'svchost.exe', 'pid': 1272}\n",
      "{'name': 'svchost.exe', 'pid': 1300}\n",
      "{'name': 'xvpnd.exe', 'pid': 1336}\n",
      "{'name': 'svchost.exe', 'pid': 1360}\n",
      "{'name': 'OEM7.exe', 'pid': 1404}\n",
      "{'name': 'armsvc.exe', 'pid': 1424}\n",
      "{'name': 'AGSService.exe', 'pid': 1456}\n",
      "{'name': 'CAJSHost.exe', 'pid': 1480}\n",
      "{'name': 'DhMachineSvc.exe', 'pid': 1532}\n",
      "{'name': 'DhPluginMgr.exe', 'pid': 1564}\n",
      "{'name': 'QQProtect.exe', 'pid': 1604}\n",
      "{'name': 'svchost.exe', 'pid': 1608}\n",
      "{'name': 'dsNcService.exe', 'pid': 1688}\n",
      "{'name': 'Everything.exe', 'pid': 1788}\n",
      "{'name': 'conhost.exe', 'pid': 1800}\n",
      "{'name': 'nssm.exe', 'pid': 1816}\n",
      "{'name': 'CamMute.exe', 'pid': 1848}\n",
      "{'name': 'TPKNRSVC.exe', 'pid': 1876}\n",
      "{'name': 'lenovodrvsrv.exe', 'pid': 1900}\n",
      "{'name': 'aliwssv.exe', 'pid': 1932}\n",
      "{'name': 'secbizsrv.exe', 'pid': 1940}\n",
      "{'name': 'D4Ser_ICBC.exe', 'pid': 1956}\n",
      "{'name': 'conhost.exe', 'pid': 1972}\n",
      "{'name': 'D4Ser_ICBC.exe', 'pid': 2004}\n",
      "{'name': 'svchost.exe', 'pid': 2068}\n",
      "{'name': 'TBSecSvc.exe', 'pid': 2104}\n",
      "{'name': 'TPHKSVC.exe', 'pid': 2152}\n",
      "{'name': 'Locator.exe', 'pid': 2184}\n",
      "{'name': 'tphkload.exe', 'pid': 2216}\n",
      "{'name': 'svchost.exe', 'pid': 2292}\n",
      "{'name': 'svchost.exe', 'pid': 2460}\n",
      "{'name': 'WmiPrvSE.exe', 'pid': 2572}\n",
      "{'name': 'tp4serv.exe', 'pid': 2720}\n",
      "{'name': 'CNMFSUT6.EXE', 'pid': 2724}\n",
      "{'name': 'svchost.exe', 'pid': 2892}\n",
      "{'name': 'ExpressVpn.exe', 'pid': 3052}\n",
      "{'name': 'WUDFHost.exe', 'pid': 3148}\n",
      "{'name': 'igfxpers.exe', 'pid': 3220}\n",
      "{'name': 'igfxtray.exe', 'pid': 3248}\n",
      "{'name': 'hkcmd.exe', 'pid': 3252}\n",
      "{'name': 'TPKNRRES.exe', 'pid': 3256}\n",
      "{'name': 'WizMouse.exe', 'pid': 3288}\n",
      "{'name': 'Tencentdl.exe', 'pid': 3296}\n",
      "{'name': 'WmiApSrv.exe', 'pid': 3308}\n",
      "{'name': 'Everything.exe', 'pid': 3352}\n",
      "{'name': 'ctfmon.exe', 'pid': 3372}\n",
      "{'name': 'python.exe', 'pid': 3392}\n",
      "{'name': 'QQ.exe', 'pid': 3436}\n",
      "{'name': 'TrustedInstaller.exe', 'pid': 3464}\n",
      "{'name': 'ssh-agent.exe', 'pid': 3488}\n",
      "{'name': 'conhost.exe', 'pid': 3504}\n",
      "{'name': 'OSPPSVC.EXE', 'pid': 3592}\n",
      "{'name': 'ConEmuC64.exe', 'pid': 3660}\n",
      "{'name': 'chrome.exe', 'pid': 3676}\n",
      "{'name': 'cmd.exe', 'pid': 3680}\n",
      "{'name': 'conhost.exe', 'pid': 3688}\n",
      "{'name': 'cscript.exe', 'pid': 3704}\n",
      "{'name': 'TPOSDSVC.exe', 'pid': 3876}\n",
      "{'name': 'shtctky.exe', 'pid': 3888}\n",
      "{'name': 'WeaselServer.exe', 'pid': 3932}\n",
      "{'name': 'dwm.exe', 'pid': 3960}\n",
      "{'name': 'explorer.exe', 'pid': 3988}\n",
      "{'name': 'Launchy.exe', 'pid': 4000}\n",
      "{'name': 'TPONSCR.exe', 'pid': 4024}\n",
      "{'name': 'TpScrex.exe', 'pid': 4032}\n",
      "{'name': 'D4Svr_ICBC.exe', 'pid': 4128}\n",
      "{'name': 'lenovodrvtray.exe', 'pid': 4136}\n",
      "{'name': 'SearchIndexer.exe', 'pid': 4348}\n",
      "{'name': 'chrome.exe', 'pid': 4448}\n",
      "{'name': 'wmpnetwk.exe', 'pid': 4456}\n",
      "{'name': 'TXPlatform.exe', 'pid': 4500}\n",
      "{'name': 'powershell.exe', 'pid': 4588}\n",
      "{'name': 'chrome.exe', 'pid': 4608}\n",
      "{'name': 'chrome.exe', 'pid': 4792}\n",
      "{'name': 'XYplorer.exe', 'pid': 4824}\n",
      "{'name': 'GWX.exe', 'pid': 4944}\n",
      "{'name': 'TaobaoProtect.exe', 'pid': 5068}\n",
      "{'name': 'python.exe', 'pid': 5296}\n",
      "{'name': 'jupyter-notebook.exe', 'pid': 5332}\n",
      "{'name': 'chrome.exe', 'pid': 5524}\n",
      "{'name': 'ConEmu.exe', 'pid': 5764}\n",
      "{'name': 'ConEmuC64.exe', 'pid': 5804}\n",
      "{'name': 'conhost.exe', 'pid': 5812}\n",
      "{'name': 'powershell.exe', 'pid': 5912}\n",
      "{'name': 'python.exe', 'pid': 6064}\n",
      "{'name': 'SogouCloud.exe', 'pid': 6136}\n",
      "{'name': 'SearchFilterHost.exe', 'pid': 6304}\n",
      "{'name': 'openvpn.exe', 'pid': 6352}\n",
      "{'name': 'SearchProtocolHost.exe', 'pid': 6356}\n",
      "{'name': 'SumatraPDF.exe', 'pid': 7148}\n"
     ]
    }
   ],
   "source": [
    "import psutil\n",
    "\n",
    "for proc in psutil.process_iter():\n",
    "    try:\n",
    "        pinfo = proc.as_dict(attrs=['pid', 'name'])\n",
    "    except psutil.NoSuchProcess:\n",
    "        pass\n",
    "    else:\n",
    "        print(pinfo)"
   ]
  },
  {
   "cell_type": "code",
   "execution_count": 12,
   "metadata": {
    "collapsed": true
   },
   "outputs": [],
   "source": [
    "import subprocess"
   ]
  },
  {
   "cell_type": "code",
   "execution_count": 70,
   "metadata": {
    "collapsed": false
   },
   "outputs": [],
   "source": [
    "a = subprocess.check_output(['powershell', 'Get-Process | sort -Descending CPU | select ProcessName, CPU | head' ], shell=True)"
   ]
  },
  {
   "cell_type": "code",
   "execution_count": 71,
   "metadata": {
    "collapsed": false
   },
   "outputs": [
    {
     "data": {
      "text/plain": [
       "['',\n",
       " 'ProcessName              CPU',\n",
       " '-----------              ---',\n",
       " 'Launchy          583.6465413',\n",
       " 'chrome           437.3176033',\n",
       " 'chrome           406.1174033',\n",
       " 'dwm              297.4159065',\n",
       " 'chrome           125.0348015',\n",
       " 'QQ                98.0310284',\n",
       " 'chrome            35.1314252',\n",
       " '']"
      ]
     },
     "execution_count": 71,
     "metadata": {},
     "output_type": "execute_result"
    }
   ],
   "source": [
    "a.decode().split('\\r\\n')"
   ]
  },
  {
   "cell_type": "code",
   "execution_count": 56,
   "metadata": {
    "collapsed": true
   },
   "outputs": [],
   "source": [
    "process_names = [proc.name() for proc in psutil.process_iter()]"
   ]
  },
  {
   "cell_type": "code",
   "execution_count": 61,
   "metadata": {
    "collapsed": false
   },
   "outputs": [
    {
     "data": {
      "text/plain": [
       "1925.270751953125"
      ]
     },
     "execution_count": 61,
     "metadata": {},
     "output_type": "execute_result"
    }
   ],
   "source": [
    "psutil.cpu_times().user"
   ]
  },
  {
   "cell_type": "code",
   "execution_count": 62,
   "metadata": {
    "collapsed": true
   },
   "outputs": [
    {
     "name": "stdout",
     "output_type": "stream",
     "text": [
      "{'name': 'System Idle Process', 'pid': 0}\n",
      "{'name': 'System', 'pid': 4}\n",
      "{'name': 'smss.exe', 'pid': 236}\n",
      "{'name': 'csrss.exe', 'pid': 332}\n",
      "{'name': 'wininit.exe', 'pid': 388}\n",
      "{'name': 'csrss.exe', 'pid': 412}\n",
      "{'name': 'services.exe', 'pid': 436}\n",
      "{'name': 'lsass.exe', 'pid': 452}\n",
      "{'name': 'lsm.exe', 'pid': 460}\n",
      "{'name': 'winlogon.exe', 'pid': 528}\n",
      "{'name': 'svchost.exe', 'pid': 628}\n",
      "{'name': 'ibmpmsvc.exe', 'pid': 688}\n",
      "{'name': 'svchost.exe', 'pid': 744}\n",
      "{'name': 'svchost.exe', 'pid': 812}\n",
      "{'name': 'svchost.exe', 'pid': 876}\n",
      "{'name': 'svchost.exe', 'pid': 932}\n",
      "{'name': 'svchost.exe', 'pid': 944}\n",
      "{'name': 'svchost.exe', 'pid': 988}\n",
      "{'name': 'chrome.exe', 'pid': 1048}\n",
      "{'name': 'dllhost.exe', 'pid': 1072}\n",
      "{'name': 'pcas.exe', 'pid': 1164}\n",
      "{'name': 'spoolsv.exe', 'pid': 1224}\n",
      "{'name': 'taskeng.exe', 'pid': 1232}\n",
      "{'name': 'svchost.exe', 'pid': 1272}\n",
      "{'name': 'svchost.exe', 'pid': 1300}\n",
      "{'name': 'xvpnd.exe', 'pid': 1336}\n",
      "{'name': 'svchost.exe', 'pid': 1360}\n",
      "{'name': 'OEM7.exe', 'pid': 1404}\n",
      "{'name': 'armsvc.exe', 'pid': 1424}\n",
      "{'name': 'AGSService.exe', 'pid': 1456}\n",
      "{'name': 'CAJSHost.exe', 'pid': 1480}\n",
      "{'name': 'DhMachineSvc.exe', 'pid': 1532}\n",
      "{'name': 'DhPluginMgr.exe', 'pid': 1564}\n",
      "{'name': 'QQProtect.exe', 'pid': 1604}\n",
      "{'name': 'svchost.exe', 'pid': 1608}\n",
      "{'name': 'dsNcService.exe', 'pid': 1688}\n",
      "{'name': 'Everything.exe', 'pid': 1788}\n",
      "{'name': 'conhost.exe', 'pid': 1800}\n",
      "{'name': 'nssm.exe', 'pid': 1816}\n",
      "{'name': 'CamMute.exe', 'pid': 1848}\n",
      "{'name': 'TPKNRSVC.exe', 'pid': 1876}\n",
      "{'name': 'lenovodrvsrv.exe', 'pid': 1900}\n",
      "{'name': 'aliwssv.exe', 'pid': 1932}\n",
      "{'name': 'secbizsrv.exe', 'pid': 1940}\n",
      "{'name': 'D4Ser_ICBC.exe', 'pid': 1956}\n",
      "{'name': 'conhost.exe', 'pid': 1972}\n",
      "{'name': 'D4Ser_ICBC.exe', 'pid': 2004}\n",
      "{'name': 'svchost.exe', 'pid': 2068}\n",
      "{'name': 'TBSecSvc.exe', 'pid': 2104}\n",
      "{'name': 'TPHKSVC.exe', 'pid': 2152}\n",
      "{'name': 'Locator.exe', 'pid': 2184}\n",
      "{'name': 'tphkload.exe', 'pid': 2216}\n",
      "{'name': 'svchost.exe', 'pid': 2292}\n",
      "{'name': 'svchost.exe', 'pid': 2460}\n",
      "{'name': 'WmiPrvSE.exe', 'pid': 2572}\n",
      "{'name': 'tp4serv.exe', 'pid': 2720}\n",
      "{'name': 'CNMFSUT6.EXE', 'pid': 2724}\n",
      "{'name': 'svchost.exe', 'pid': 2892}\n",
      "{'name': 'ExpressVpn.exe', 'pid': 3052}\n",
      "{'name': 'WUDFHost.exe', 'pid': 3148}\n",
      "{'name': 'igfxpers.exe', 'pid': 3220}\n",
      "{'name': 'igfxtray.exe', 'pid': 3248}\n",
      "{'name': 'hkcmd.exe', 'pid': 3252}\n",
      "{'name': 'TPKNRRES.exe', 'pid': 3256}\n",
      "{'name': 'WizMouse.exe', 'pid': 3288}\n",
      "{'name': 'Tencentdl.exe', 'pid': 3296}\n",
      "{'name': 'WmiApSrv.exe', 'pid': 3308}\n",
      "{'name': 'Everything.exe', 'pid': 3352}\n",
      "{'name': 'ctfmon.exe', 'pid': 3372}\n",
      "{'name': 'python.exe', 'pid': 3392}\n",
      "{'name': 'QQ.exe', 'pid': 3436}\n",
      "{'name': 'TrustedInstaller.exe', 'pid': 3464}\n",
      "{'name': 'ssh-agent.exe', 'pid': 3488}\n",
      "{'name': 'conhost.exe', 'pid': 3504}\n",
      "{'name': 'OSPPSVC.EXE', 'pid': 3592}\n",
      "{'name': 'ConEmuC64.exe', 'pid': 3660}\n",
      "{'name': 'cmd.exe', 'pid': 3680}\n",
      "{'name': 'conhost.exe', 'pid': 3688}\n",
      "{'name': 'cscript.exe', 'pid': 3704}\n",
      "{'name': 'TPOSDSVC.exe', 'pid': 3876}\n",
      "{'name': 'shtctky.exe', 'pid': 3888}\n",
      "{'name': 'WeaselServer.exe', 'pid': 3932}\n",
      "{'name': 'dwm.exe', 'pid': 3960}\n",
      "{'name': 'explorer.exe', 'pid': 3988}\n",
      "{'name': 'Launchy.exe', 'pid': 4000}\n",
      "{'name': 'TPONSCR.exe', 'pid': 4024}\n",
      "{'name': 'TpScrex.exe', 'pid': 4032}\n",
      "{'name': 'D4Svr_ICBC.exe', 'pid': 4128}\n",
      "{'name': 'lenovodrvtray.exe', 'pid': 4136}\n",
      "{'name': 'SearchIndexer.exe', 'pid': 4348}\n",
      "{'name': 'chrome.exe', 'pid': 4448}\n",
      "{'name': 'wmpnetwk.exe', 'pid': 4456}\n",
      "{'name': 'TXPlatform.exe', 'pid': 4500}\n",
      "{'name': 'powershell.exe', 'pid': 4588}\n",
      "{'name': 'chrome.exe', 'pid': 4608}\n",
      "{'name': 'chrome.exe', 'pid': 4792}\n",
      "{'name': 'XYplorer.exe', 'pid': 4824}\n",
      "{'name': 'GWX.exe', 'pid': 4944}\n",
      "{'name': 'TaobaoProtect.exe', 'pid': 5068}\n",
      "{'name': 'chrome.exe', 'pid': 5184}\n",
      "{'name': 'python.exe', 'pid': 5296}\n",
      "{'name': 'jupyter-notebook.exe', 'pid': 5332}\n",
      "{'name': 'chrome.exe', 'pid': 5524}\n",
      "{'name': 'ConEmu.exe', 'pid': 5764}\n",
      "{'name': 'ConEmuC64.exe', 'pid': 5804}\n",
      "{'name': 'conhost.exe', 'pid': 5812}\n",
      "{'name': 'powershell.exe', 'pid': 5912}\n",
      "{'name': 'python.exe', 'pid': 6064}\n",
      "{'name': 'SogouCloud.exe', 'pid': 6136}\n",
      "{'name': 'openvpn.exe', 'pid': 6192}\n",
      "{'name': 'SumatraPDF.exe', 'pid': 7148}\n"
     ]
    }
   ],
   "source": [
    "for proc in psutil.process_iter():\n",
    "    try:\n",
    "        pinfo = proc.as_dict(attrs=['pid', 'name'])\n",
    "    except psutil.NoSuchProcess:\n",
    "        pass\n",
    "    else:\n",
    "        print(pinfo)"
   ]
  },
  {
   "cell_type": "code",
   "execution_count": 63,
   "metadata": {
    "collapsed": true
   },
   "outputs": [
    {
     "name": "stdout",
     "output_type": "stream",
     "text": [
      "psutil.Process(pid=0, name='System Idle Process')\n",
      "psutil.Process(pid=4, name='System')\n",
      "psutil.Process(pid=236, name='smss.exe')\n",
      "psutil.Process(pid=332, name='csrss.exe')\n",
      "psutil.Process(pid=388, name='wininit.exe')\n",
      "psutil.Process(pid=412, name='csrss.exe')\n",
      "psutil.Process(pid=436, name='services.exe')\n",
      "psutil.Process(pid=452, name='lsass.exe')\n",
      "psutil.Process(pid=460, name='lsm.exe')\n",
      "psutil.Process(pid=528, name='winlogon.exe')\n",
      "psutil.Process(pid=628, name='svchost.exe')\n",
      "psutil.Process(pid=688, name='ibmpmsvc.exe')\n",
      "psutil.Process(pid=744, name='svchost.exe')\n",
      "psutil.Process(pid=812, name='svchost.exe')\n",
      "psutil.Process(pid=876, name='svchost.exe')\n",
      "psutil.Process(pid=932, name='svchost.exe')\n",
      "psutil.Process(pid=944, name='svchost.exe')\n",
      "psutil.Process(pid=988, name='svchost.exe')\n",
      "psutil.Process(pid=1048, name='chrome.exe')\n",
      "psutil.Process(pid=1072, name='dllhost.exe')\n",
      "psutil.Process(pid=1164, name='pcas.exe')\n",
      "psutil.Process(pid=1224, name='spoolsv.exe')\n",
      "psutil.Process(pid=1232, name='taskeng.exe')\n",
      "psutil.Process(pid=1272, name='svchost.exe')\n",
      "psutil.Process(pid=1300, name='svchost.exe')\n",
      "psutil.Process(pid=1336, name='xvpnd.exe')\n",
      "psutil.Process(pid=1360, name='svchost.exe')\n",
      "psutil.Process(pid=1404, name='OEM7.exe')\n",
      "psutil.Process(pid=1424, name='armsvc.exe')\n",
      "psutil.Process(pid=1456, name='AGSService.exe')\n",
      "psutil.Process(pid=1480, name='CAJSHost.exe')\n",
      "psutil.Process(pid=1532, name='DhMachineSvc.exe')\n",
      "psutil.Process(pid=1564, name='DhPluginMgr.exe')\n",
      "psutil.Process(pid=1604, name='QQProtect.exe')\n",
      "psutil.Process(pid=1608, name='svchost.exe')\n",
      "psutil.Process(pid=1688, name='dsNcService.exe')\n",
      "psutil.Process(pid=1788, name='Everything.exe')\n",
      "psutil.Process(pid=1800, name='conhost.exe')\n",
      "psutil.Process(pid=1816, name='nssm.exe')\n",
      "psutil.Process(pid=1848, name='CamMute.exe')\n",
      "psutil.Process(pid=1876, name='TPKNRSVC.exe')\n",
      "psutil.Process(pid=1900, name='lenovodrvsrv.exe')\n",
      "psutil.Process(pid=1932, name='aliwssv.exe')\n",
      "psutil.Process(pid=1940, name='secbizsrv.exe')\n",
      "psutil.Process(pid=1956, name='D4Ser_ICBC.exe')\n",
      "psutil.Process(pid=1972, name='conhost.exe')\n",
      "psutil.Process(pid=2004, name='D4Ser_ICBC.exe')\n",
      "psutil.Process(pid=2068, name='svchost.exe')\n",
      "psutil.Process(pid=2104, name='TBSecSvc.exe')\n",
      "psutil.Process(pid=2152, name='TPHKSVC.exe')\n",
      "psutil.Process(pid=2184, name='Locator.exe')\n",
      "psutil.Process(pid=2216, name='tphkload.exe')\n",
      "psutil.Process(pid=2292, name='svchost.exe')\n",
      "psutil.Process(pid=2460, name='svchost.exe')\n",
      "psutil.Process(pid=2572, name='WmiPrvSE.exe')\n",
      "psutil.Process(pid=2720, name='tp4serv.exe')\n",
      "psutil.Process(pid=2724, name='CNMFSUT6.EXE')\n",
      "psutil.Process(pid=2892, name='svchost.exe')\n",
      "psutil.Process(pid=3052, name='ExpressVpn.exe')\n",
      "psutil.Process(pid=3148, name='WUDFHost.exe')\n",
      "psutil.Process(pid=3220, name='igfxpers.exe')\n",
      "psutil.Process(pid=3248, name='igfxtray.exe')\n",
      "psutil.Process(pid=3252, name='hkcmd.exe')\n",
      "psutil.Process(pid=3256, name='TPKNRRES.exe')\n",
      "psutil.Process(pid=3288, name='WizMouse.exe')\n",
      "psutil.Process(pid=3296, name='Tencentdl.exe')\n",
      "psutil.Process(pid=3308, name='WmiApSrv.exe')\n",
      "psutil.Process(pid=3352, name='Everything.exe')\n",
      "psutil.Process(pid=3372, name='ctfmon.exe')\n",
      "psutil.Process(pid=3392, name='python.exe')\n",
      "psutil.Process(pid=3436, name='QQ.exe')\n",
      "psutil.Process(pid=3464, name='TrustedInstaller.exe')\n",
      "psutil.Process(pid=3488, name='ssh-agent.exe')\n",
      "psutil.Process(pid=3504, name='conhost.exe')\n",
      "psutil.Process(pid=3592, name='OSPPSVC.EXE')\n",
      "psutil.Process(pid=3660, name='ConEmuC64.exe')\n",
      "psutil.Process(pid=3680, name='cmd.exe')\n",
      "psutil.Process(pid=3688, name='conhost.exe')\n",
      "psutil.Process(pid=3704, name='cscript.exe')\n",
      "psutil.Process(pid=3876, name='TPOSDSVC.exe')\n",
      "psutil.Process(pid=3888, name='shtctky.exe')\n",
      "psutil.Process(pid=3932, name='WeaselServer.exe')\n",
      "psutil.Process(pid=3960, name='dwm.exe')\n",
      "psutil.Process(pid=3988, name='explorer.exe')\n",
      "psutil.Process(pid=4000, name='Launchy.exe')\n",
      "psutil.Process(pid=4024, name='TPONSCR.exe')\n",
      "psutil.Process(pid=4032, name='TpScrex.exe')\n",
      "psutil.Process(pid=4128, name='D4Svr_ICBC.exe')\n",
      "psutil.Process(pid=4136, name='lenovodrvtray.exe')\n",
      "psutil.Process(pid=4348, name='SearchIndexer.exe')\n",
      "psutil.Process(pid=4448, name='chrome.exe')\n",
      "psutil.Process(pid=4456, name='wmpnetwk.exe')\n",
      "psutil.Process(pid=4500, name='TXPlatform.exe')\n",
      "psutil.Process(pid=4588, name='powershell.exe')\n",
      "psutil.Process(pid=4608, name='chrome.exe')\n",
      "psutil.Process(pid=4792, name='chrome.exe')\n",
      "psutil.Process(pid=4824, name='XYplorer.exe')\n",
      "psutil.Process(pid=4944, name='GWX.exe')\n",
      "psutil.Process(pid=5068, name='TaobaoProtect.exe')\n",
      "psutil.Process(pid=5184, name='chrome.exe')\n",
      "psutil.Process(pid=5296, name='python.exe')\n",
      "psutil.Process(pid=5332, name='jupyter-notebook.exe')\n",
      "psutil.Process(pid=5524, name='chrome.exe')\n",
      "psutil.Process(pid=5764, name='ConEmu.exe')\n",
      "psutil.Process(pid=5804, name='ConEmuC64.exe')\n",
      "psutil.Process(pid=5812, name='conhost.exe')\n",
      "psutil.Process(pid=5912, name='powershell.exe')\n",
      "psutil.Process(pid=5924, name='audiodg.exe')\n",
      "psutil.Process(pid=6064, name='python.exe')\n",
      "psutil.Process(pid=6136, name='SogouCloud.exe')\n",
      "psutil.Process(pid=6192, name='openvpn.exe')\n",
      "psutil.Process(pid=7148, name='SumatraPDF.exe')\n"
     ]
    }
   ],
   "source": [
    "for proc in psutil.process_iter():\n",
    "    print(proc)"
   ]
  },
  {
   "cell_type": "code",
   "execution_count": 65,
   "metadata": {
    "collapsed": false
   },
   "outputs": [],
   "source": [
    "import wmi"
   ]
  },
  {
   "cell_type": "code",
   "execution_count": 66,
   "metadata": {
    "collapsed": true
   },
   "outputs": [],
   "source": [
    "c = wmi.WMI()"
   ]
  },
  {
   "cell_type": "code",
   "execution_count": 69,
   "metadata": {
    "collapsed": false
   },
   "outputs": [
    {
     "data": {
      "text/plain": [
       "[<_wmi_object: b'\\\\\\\\NICK-PC\\\\root\\\\cimv2:Win32_Process.Handle=\"0\"'>,\n",
       " <_wmi_object: b'\\\\\\\\NICK-PC\\\\root\\\\cimv2:Win32_Process.Handle=\"4\"'>,\n",
       " <_wmi_object: b'\\\\\\\\NICK-PC\\\\root\\\\cimv2:Win32_Process.Handle=\"236\"'>,\n",
       " <_wmi_object: b'\\\\\\\\NICK-PC\\\\root\\\\cimv2:Win32_Process.Handle=\"332\"'>,\n",
       " <_wmi_object: b'\\\\\\\\NICK-PC\\\\root\\\\cimv2:Win32_Process.Handle=\"388\"'>,\n",
       " <_wmi_object: b'\\\\\\\\NICK-PC\\\\root\\\\cimv2:Win32_Process.Handle=\"412\"'>,\n",
       " <_wmi_object: b'\\\\\\\\NICK-PC\\\\root\\\\cimv2:Win32_Process.Handle=\"436\"'>,\n",
       " <_wmi_object: b'\\\\\\\\NICK-PC\\\\root\\\\cimv2:Win32_Process.Handle=\"452\"'>,\n",
       " <_wmi_object: b'\\\\\\\\NICK-PC\\\\root\\\\cimv2:Win32_Process.Handle=\"460\"'>,\n",
       " <_wmi_object: b'\\\\\\\\NICK-PC\\\\root\\\\cimv2:Win32_Process.Handle=\"528\"'>,\n",
       " <_wmi_object: b'\\\\\\\\NICK-PC\\\\root\\\\cimv2:Win32_Process.Handle=\"628\"'>,\n",
       " <_wmi_object: b'\\\\\\\\NICK-PC\\\\root\\\\cimv2:Win32_Process.Handle=\"688\"'>,\n",
       " <_wmi_object: b'\\\\\\\\NICK-PC\\\\root\\\\cimv2:Win32_Process.Handle=\"744\"'>,\n",
       " <_wmi_object: b'\\\\\\\\NICK-PC\\\\root\\\\cimv2:Win32_Process.Handle=\"812\"'>,\n",
       " <_wmi_object: b'\\\\\\\\NICK-PC\\\\root\\\\cimv2:Win32_Process.Handle=\"876\"'>,\n",
       " <_wmi_object: b'\\\\\\\\NICK-PC\\\\root\\\\cimv2:Win32_Process.Handle=\"944\"'>,\n",
       " <_wmi_object: b'\\\\\\\\NICK-PC\\\\root\\\\cimv2:Win32_Process.Handle=\"988\"'>,\n",
       " <_wmi_object: b'\\\\\\\\NICK-PC\\\\root\\\\cimv2:Win32_Process.Handle=\"932\"'>,\n",
       " <_wmi_object: b'\\\\\\\\NICK-PC\\\\root\\\\cimv2:Win32_Process.Handle=\"1224\"'>,\n",
       " <_wmi_object: b'\\\\\\\\NICK-PC\\\\root\\\\cimv2:Win32_Process.Handle=\"1232\"'>,\n",
       " <_wmi_object: b'\\\\\\\\NICK-PC\\\\root\\\\cimv2:Win32_Process.Handle=\"1272\"'>,\n",
       " <_wmi_object: b'\\\\\\\\NICK-PC\\\\root\\\\cimv2:Win32_Process.Handle=\"1300\"'>,\n",
       " <_wmi_object: b'\\\\\\\\NICK-PC\\\\root\\\\cimv2:Win32_Process.Handle=\"1360\"'>,\n",
       " <_wmi_object: b'\\\\\\\\NICK-PC\\\\root\\\\cimv2:Win32_Process.Handle=\"1404\"'>,\n",
       " <_wmi_object: b'\\\\\\\\NICK-PC\\\\root\\\\cimv2:Win32_Process.Handle=\"1424\"'>,\n",
       " <_wmi_object: b'\\\\\\\\NICK-PC\\\\root\\\\cimv2:Win32_Process.Handle=\"1456\"'>,\n",
       " <_wmi_object: b'\\\\\\\\NICK-PC\\\\root\\\\cimv2:Win32_Process.Handle=\"1480\"'>,\n",
       " <_wmi_object: b'\\\\\\\\NICK-PC\\\\root\\\\cimv2:Win32_Process.Handle=\"1532\"'>,\n",
       " <_wmi_object: b'\\\\\\\\NICK-PC\\\\root\\\\cimv2:Win32_Process.Handle=\"1564\"'>,\n",
       " <_wmi_object: b'\\\\\\\\NICK-PC\\\\root\\\\cimv2:Win32_Process.Handle=\"1608\"'>,\n",
       " <_wmi_object: b'\\\\\\\\NICK-PC\\\\root\\\\cimv2:Win32_Process.Handle=\"1688\"'>,\n",
       " <_wmi_object: b'\\\\\\\\NICK-PC\\\\root\\\\cimv2:Win32_Process.Handle=\"1788\"'>,\n",
       " <_wmi_object: b'\\\\\\\\NICK-PC\\\\root\\\\cimv2:Win32_Process.Handle=\"1816\"'>,\n",
       " <_wmi_object: b'\\\\\\\\NICK-PC\\\\root\\\\cimv2:Win32_Process.Handle=\"1848\"'>,\n",
       " <_wmi_object: b'\\\\\\\\NICK-PC\\\\root\\\\cimv2:Win32_Process.Handle=\"1876\"'>,\n",
       " <_wmi_object: b'\\\\\\\\NICK-PC\\\\root\\\\cimv2:Win32_Process.Handle=\"1900\"'>,\n",
       " <_wmi_object: b'\\\\\\\\NICK-PC\\\\root\\\\cimv2:Win32_Process.Handle=\"1956\"'>,\n",
       " <_wmi_object: b'\\\\\\\\NICK-PC\\\\root\\\\cimv2:Win32_Process.Handle=\"1972\"'>,\n",
       " <_wmi_object: b'\\\\\\\\NICK-PC\\\\root\\\\cimv2:Win32_Process.Handle=\"2004\"'>,\n",
       " <_wmi_object: b'\\\\\\\\NICK-PC\\\\root\\\\cimv2:Win32_Process.Handle=\"1164\"'>,\n",
       " <_wmi_object: b'\\\\\\\\NICK-PC\\\\root\\\\cimv2:Win32_Process.Handle=\"1336\"'>,\n",
       " <_wmi_object: b'\\\\\\\\NICK-PC\\\\root\\\\cimv2:Win32_Process.Handle=\"1604\"'>,\n",
       " <_wmi_object: b'\\\\\\\\NICK-PC\\\\root\\\\cimv2:Win32_Process.Handle=\"1940\"'>,\n",
       " <_wmi_object: b'\\\\\\\\NICK-PC\\\\root\\\\cimv2:Win32_Process.Handle=\"2068\"'>,\n",
       " <_wmi_object: b'\\\\\\\\NICK-PC\\\\root\\\\cimv2:Win32_Process.Handle=\"2104\"'>,\n",
       " <_wmi_object: b'\\\\\\\\NICK-PC\\\\root\\\\cimv2:Win32_Process.Handle=\"2152\"'>,\n",
       " <_wmi_object: b'\\\\\\\\NICK-PC\\\\root\\\\cimv2:Win32_Process.Handle=\"2216\"'>,\n",
       " <_wmi_object: b'\\\\\\\\NICK-PC\\\\root\\\\cimv2:Win32_Process.Handle=\"2572\"'>,\n",
       " <_wmi_object: b'\\\\\\\\NICK-PC\\\\root\\\\cimv2:Win32_Process.Handle=\"2184\"'>,\n",
       " <_wmi_object: b'\\\\\\\\NICK-PC\\\\root\\\\cimv2:Win32_Process.Handle=\"2460\"'>,\n",
       " <_wmi_object: b'\\\\\\\\NICK-PC\\\\root\\\\cimv2:Win32_Process.Handle=\"2892\"'>,\n",
       " <_wmi_object: b'\\\\\\\\NICK-PC\\\\root\\\\cimv2:Win32_Process.Handle=\"2292\"'>,\n",
       " <_wmi_object: b'\\\\\\\\NICK-PC\\\\root\\\\cimv2:Win32_Process.Handle=\"3148\"'>,\n",
       " <_wmi_object: b'\\\\\\\\NICK-PC\\\\root\\\\cimv2:Win32_Process.Handle=\"3308\"'>,\n",
       " <_wmi_object: b'\\\\\\\\NICK-PC\\\\root\\\\cimv2:Win32_Process.Handle=\"3592\"'>,\n",
       " <_wmi_object: b'\\\\\\\\NICK-PC\\\\root\\\\cimv2:Win32_Process.Handle=\"3680\"'>,\n",
       " <_wmi_object: b'\\\\\\\\NICK-PC\\\\root\\\\cimv2:Win32_Process.Handle=\"3688\"'>,\n",
       " <_wmi_object: b'\\\\\\\\NICK-PC\\\\root\\\\cimv2:Win32_Process.Handle=\"3704\"'>,\n",
       " <_wmi_object: b'\\\\\\\\NICK-PC\\\\root\\\\cimv2:Win32_Process.Handle=\"3876\"'>,\n",
       " <_wmi_object: b'\\\\\\\\NICK-PC\\\\root\\\\cimv2:Win32_Process.Handle=\"3888\"'>,\n",
       " <_wmi_object: b'\\\\\\\\NICK-PC\\\\root\\\\cimv2:Win32_Process.Handle=\"3960\"'>,\n",
       " <_wmi_object: b'\\\\\\\\NICK-PC\\\\root\\\\cimv2:Win32_Process.Handle=\"3988\"'>,\n",
       " <_wmi_object: b'\\\\\\\\NICK-PC\\\\root\\\\cimv2:Win32_Process.Handle=\"4024\"'>,\n",
       " <_wmi_object: b'\\\\\\\\NICK-PC\\\\root\\\\cimv2:Win32_Process.Handle=\"4032\"'>,\n",
       " <_wmi_object: b'\\\\\\\\NICK-PC\\\\root\\\\cimv2:Win32_Process.Handle=\"3256\"'>,\n",
       " <_wmi_object: b'\\\\\\\\NICK-PC\\\\root\\\\cimv2:Win32_Process.Handle=\"3248\"'>,\n",
       " <_wmi_object: b'\\\\\\\\NICK-PC\\\\root\\\\cimv2:Win32_Process.Handle=\"3252\"'>,\n",
       " <_wmi_object: b'\\\\\\\\NICK-PC\\\\root\\\\cimv2:Win32_Process.Handle=\"3220\"'>,\n",
       " <_wmi_object: b'\\\\\\\\NICK-PC\\\\root\\\\cimv2:Win32_Process.Handle=\"3352\"'>,\n",
       " <_wmi_object: b'\\\\\\\\NICK-PC\\\\root\\\\cimv2:Win32_Process.Handle=\"1932\"'>,\n",
       " <_wmi_object: b'\\\\\\\\NICK-PC\\\\root\\\\cimv2:Win32_Process.Handle=\"3504\"'>,\n",
       " <_wmi_object: b'\\\\\\\\NICK-PC\\\\root\\\\cimv2:Win32_Process.Handle=\"3932\"'>,\n",
       " <_wmi_object: b'\\\\\\\\NICK-PC\\\\root\\\\cimv2:Win32_Process.Handle=\"2720\"'>,\n",
       " <_wmi_object: b'\\\\\\\\NICK-PC\\\\root\\\\cimv2:Win32_Process.Handle=\"2724\"'>,\n",
       " <_wmi_object: b'\\\\\\\\NICK-PC\\\\root\\\\cimv2:Win32_Process.Handle=\"3372\"'>,\n",
       " <_wmi_object: b'\\\\\\\\NICK-PC\\\\root\\\\cimv2:Win32_Process.Handle=\"3288\"'>,\n",
       " <_wmi_object: b'\\\\\\\\NICK-PC\\\\root\\\\cimv2:Win32_Process.Handle=\"4000\"'>,\n",
       " <_wmi_object: b'\\\\\\\\NICK-PC\\\\root\\\\cimv2:Win32_Process.Handle=\"4128\"'>,\n",
       " <_wmi_object: b'\\\\\\\\NICK-PC\\\\root\\\\cimv2:Win32_Process.Handle=\"4136\"'>,\n",
       " <_wmi_object: b'\\\\\\\\NICK-PC\\\\root\\\\cimv2:Win32_Process.Handle=\"4348\"'>,\n",
       " <_wmi_object: b'\\\\\\\\NICK-PC\\\\root\\\\cimv2:Win32_Process.Handle=\"4456\"'>,\n",
       " <_wmi_object: b'\\\\\\\\NICK-PC\\\\root\\\\cimv2:Win32_Process.Handle=\"4944\"'>,\n",
       " <_wmi_object: b'\\\\\\\\NICK-PC\\\\root\\\\cimv2:Win32_Process.Handle=\"5068\"'>,\n",
       " <_wmi_object: b'\\\\\\\\NICK-PC\\\\root\\\\cimv2:Win32_Process.Handle=\"1072\"'>,\n",
       " <_wmi_object: b'\\\\\\\\NICK-PC\\\\root\\\\cimv2:Win32_Process.Handle=\"4824\"'>,\n",
       " <_wmi_object: b'\\\\\\\\NICK-PC\\\\root\\\\cimv2:Win32_Process.Handle=\"3436\"'>,\n",
       " <_wmi_object: b'\\\\\\\\NICK-PC\\\\root\\\\cimv2:Win32_Process.Handle=\"4500\"'>,\n",
       " <_wmi_object: b'\\\\\\\\NICK-PC\\\\root\\\\cimv2:Win32_Process.Handle=\"3052\"'>,\n",
       " <_wmi_object: b'\\\\\\\\NICK-PC\\\\root\\\\cimv2:Win32_Process.Handle=\"3296\"'>,\n",
       " <_wmi_object: b'\\\\\\\\NICK-PC\\\\root\\\\cimv2:Win32_Process.Handle=\"3464\"'>,\n",
       " <_wmi_object: b'\\\\\\\\NICK-PC\\\\root\\\\cimv2:Win32_Process.Handle=\"1048\"'>,\n",
       " <_wmi_object: b'\\\\\\\\NICK-PC\\\\root\\\\cimv2:Win32_Process.Handle=\"4608\"'>,\n",
       " <_wmi_object: b'\\\\\\\\NICK-PC\\\\root\\\\cimv2:Win32_Process.Handle=\"4448\"'>,\n",
       " <_wmi_object: b'\\\\\\\\NICK-PC\\\\root\\\\cimv2:Win32_Process.Handle=\"5524\"'>,\n",
       " <_wmi_object: b'\\\\\\\\NICK-PC\\\\root\\\\cimv2:Win32_Process.Handle=\"5764\"'>,\n",
       " <_wmi_object: b'\\\\\\\\NICK-PC\\\\root\\\\cimv2:Win32_Process.Handle=\"5804\"'>,\n",
       " <_wmi_object: b'\\\\\\\\NICK-PC\\\\root\\\\cimv2:Win32_Process.Handle=\"5812\"'>,\n",
       " <_wmi_object: b'\\\\\\\\NICK-PC\\\\root\\\\cimv2:Win32_Process.Handle=\"5912\"'>,\n",
       " <_wmi_object: b'\\\\\\\\NICK-PC\\\\root\\\\cimv2:Win32_Process.Handle=\"3488\"'>,\n",
       " <_wmi_object: b'\\\\\\\\NICK-PC\\\\root\\\\cimv2:Win32_Process.Handle=\"5332\"'>,\n",
       " <_wmi_object: b'\\\\\\\\NICK-PC\\\\root\\\\cimv2:Win32_Process.Handle=\"5296\"'>,\n",
       " <_wmi_object: b'\\\\\\\\NICK-PC\\\\root\\\\cimv2:Win32_Process.Handle=\"4792\"'>,\n",
       " <_wmi_object: b'\\\\\\\\NICK-PC\\\\root\\\\cimv2:Win32_Process.Handle=\"6136\"'>,\n",
       " <_wmi_object: b'\\\\\\\\NICK-PC\\\\root\\\\cimv2:Win32_Process.Handle=\"6064\"'>,\n",
       " <_wmi_object: b'\\\\\\\\NICK-PC\\\\root\\\\cimv2:Win32_Process.Handle=\"3392\"'>,\n",
       " <_wmi_object: b'\\\\\\\\NICK-PC\\\\root\\\\cimv2:Win32_Process.Handle=\"7148\"'>,\n",
       " <_wmi_object: b'\\\\\\\\NICK-PC\\\\root\\\\cimv2:Win32_Process.Handle=\"3660\"'>,\n",
       " <_wmi_object: b'\\\\\\\\NICK-PC\\\\root\\\\cimv2:Win32_Process.Handle=\"1800\"'>,\n",
       " <_wmi_object: b'\\\\\\\\NICK-PC\\\\root\\\\cimv2:Win32_Process.Handle=\"4588\"'>,\n",
       " <_wmi_object: b'\\\\\\\\NICK-PC\\\\root\\\\cimv2:Win32_Process.Handle=\"6192\"'>,\n",
       " <_wmi_object: b'\\\\\\\\NICK-PC\\\\root\\\\cimv2:Win32_Process.Handle=\"5184\"'>,\n",
       " <_wmi_object: b'\\\\\\\\NICK-PC\\\\root\\\\cimv2:Win32_Process.Handle=\"5924\"'>,\n",
       " <_wmi_object: b'\\\\\\\\NICK-PC\\\\root\\\\cimv2:Win32_Process.Handle=\"556\"'>,\n",
       " <_wmi_object: b'\\\\\\\\NICK-PC\\\\root\\\\cimv2:Win32_Process.Handle=\"5252\"'>,\n",
       " <_wmi_object: b'\\\\\\\\NICK-PC\\\\root\\\\cimv2:Win32_Process.Handle=\"3608\"'>,\n",
       " <_wmi_object: b'\\\\\\\\NICK-PC\\\\root\\\\cimv2:Win32_Process.Handle=\"5656\"'>,\n",
       " <_wmi_object: b'\\\\\\\\NICK-PC\\\\root\\\\cimv2:Win32_Process.Handle=\"6948\"'>,\n",
       " <_wmi_object: b'\\\\\\\\NICK-PC\\\\root\\\\cimv2:Win32_Process.Handle=\"6240\"'>]"
      ]
     },
     "execution_count": 69,
     "metadata": {},
     "output_type": "execute_result"
    }
   ],
   "source": [
    "c.Win32_Process()"
   ]
  },
  {
   "cell_type": "code",
   "execution_count": null,
   "metadata": {
    "collapsed": true
   },
   "outputs": [],
   "source": []
  }
 ],
 "metadata": {
  "kernelspec": {
   "display_name": "Python 3",
   "language": "python",
   "name": "python3"
  },
  "language_info": {
   "codemirror_mode": {
    "name": "ipython",
    "version": 3
   },
   "file_extension": ".py",
   "mimetype": "text/x-python",
   "name": "python",
   "nbconvert_exporter": "python",
   "pygments_lexer": "ipython3",
   "version": "3.5.1"
  }
 },
 "nbformat": 4,
 "nbformat_minor": 0
}
