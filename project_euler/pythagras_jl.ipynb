{
 "cells": [
  {
   "cell_type": "code",
   "execution_count": 17,
   "metadata": {
    "collapsed": false
   },
   "outputs": [
    {
     "data": {
      "text/plain": [
       "pythagras_product (generic function with 2 methods)"
      ]
     },
     "execution_count": 17,
     "metadata": {},
     "output_type": "execute_result"
    }
   ],
   "source": [
    "function pythagras_product(CEILING = 500)\n",
    "    counter = 0\n",
    "    for a in 3:CEILING\n",
    "        for b in a+1:CEILING\n",
    "            for c in b+1: CEILING\n",
    "                counter += 1\n",
    "                if a*a + b*b == c*c && a + b + c == 1000\n",
    "                    println(\"a = $a\\nb = $b\\nc = $c\\n\")\n",
    "                    println(\"Products: $(a*b*c)\")\n",
    "                    println(\"counter: $counter\")\n",
    "                    return\n",
    "                end\n",
    "            end\n",
    "        end\n",
    "    end\n",
    "end                "
   ]
  },
  {
   "cell_type": "code",
   "execution_count": 18,
   "metadata": {
    "collapsed": false
   },
   "outputs": [
    {
     "name": "stdout",
     "output_type": "stream",
     "text": [
      "a = 200\n",
      "b = 375\n",
      "c = 425\n",
      "\n",
      "Products: 31875000\n",
      "counter: 15997571\n",
      "  0.061520 seconds (9.43 k allocations: 432.325 KB)\n"
     ]
    }
   ],
   "source": [
    "@time pythagras_product()"
   ]
  },
  {
   "cell_type": "code",
   "execution_count": null,
   "metadata": {
    "collapsed": true
   },
   "outputs": [],
   "source": []
  }
 ],
 "metadata": {
  "kernelspec": {
   "display_name": "Julia 0.4.5",
   "language": "julia",
   "name": "julia-0.4"
  },
  "language_info": {
   "file_extension": ".jl",
   "mimetype": "application/julia",
   "name": "julia",
   "version": "0.4.5"
  }
 },
 "nbformat": 4,
 "nbformat_minor": 0
}
