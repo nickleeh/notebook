{
 "cells": [
  {
   "cell_type": "code",
   "execution_count": 3,
   "metadata": {
    "autoscroll": "json-false",
    "collapsed": false,
    "ein.tags": [
     "worksheet-0"
    ]
   },
   "outputs": [],
   "source": [
    "raw_matrix = '''08 02 22 97 38 15 00 40 00 75 04 05 07 78 52 12 50 77 91 08\n",
    "49 49 99 40 17 81 18 57 60 87 17 40 98 43 69 48 04 56 62 00\n",
    "81 49 31 73 55 79 14 29 93 71 40 67 53 88 30 03 49 13 36 65\n",
    "52 70 95 23 04 60 11 42 69 24 68 56 01 32 56 71 37 02 36 91\n",
    "22 31 16 71 51 67 63 89 41 92 36 54 22 40 40 28 66 33 13 80\n",
    "24 47 32 60 99 03 45 02 44 75 33 53 78 36 84 20 35 17 12 50\n",
    "32 98 81 28 64 23 67 10 26 38 40 67 59 54 70 66 18 38 64 70\n",
    "67 26 20 68 02 62 12 20 95 63 94 39 63 08 40 91 66 49 94 21\n",
    "24 55 58 05 66 73 99 26 97 17 78 78 96 83 14 88 34 89 63 72\n",
    "21 36 23 09 75 00 76 44 20 45 35 14 00 61 33 97 34 31 33 95\n",
    "78 17 53 28 22 75 31 67 15 94 03 80 04 62 16 14 09 53 56 92\n",
    "16 39 05 42 96 35 31 47 55 58 88 24 00 17 54 24 36 29 85 57\n",
    "86 56 00 48 35 71 89 07 05 44 44 37 44 60 21 58 51 54 17 58\n",
    "19 80 81 68 05 94 47 69 28 73 92 13 86 52 17 77 04 89 55 40\n",
    "04 52 08 83 97 35 99 16 07 97 57 32 16 26 26 79 33 27 98 66\n",
    "88 36 68 87 57 62 20 72 03 46 33 67 46 55 12 32 63 93 53 69\n",
    "04 42 16 73 38 25 39 11 24 94 72 18 08 46 29 32 40 62 76 36\n",
    "20 69 36 41 72 30 23 88 34 62 99 69 82 67 59 85 74 04 36 16\n",
    "20 73 35 29 78 31 90 01 74 31 49 71 48 86 81 16 23 57 05 54\n",
    "01 70 54 71 83 51 54 69 16 92 33 48 61 43 52 01 89 19 67 48'''"
   ]
  },
  {
   "cell_type": "code",
   "execution_count": 4,
   "metadata": {
    "autoscroll": "json-false",
    "collapsed": false,
    "ein.tags": [
     "worksheet-0"
    ]
   },
   "outputs": [],
   "source": [
    "import numpy as np"
   ]
  },
  {
   "cell_type": "code",
   "execution_count": 5,
   "metadata": {
    "autoscroll": "json-false",
    "collapsed": false,
    "ein.tags": [
     "worksheet-0"
    ]
   },
   "outputs": [
    {
     "name": "stdout",
     "output_type": "stream",
     "text": [
      "70600674\n"
     ]
    }
   ],
   "source": [
    "# %%timeit\n",
    "M = np.array([int(x) for x in raw_matrix.split()]).reshape(20,20)\n",
    "RM = M[::-1, ]  # flipping the array to get anti-diagonals\n",
    "\n",
    "maxprod = 0\n",
    "for i in range(20):\n",
    "    for j in range(20):\n",
    "        rprod = np.prod(M[i][j:j+4])\n",
    "        cprod = np.prod(M[:, j][i:i+4])\n",
    "        k = min(i,j)\n",
    "        d1 = np.prod(M.diagonal(j-i)[k:k+4])\n",
    "        d2 = np.prod(RM.diagonal(j-i)[k:k+4])\n",
    "        maxprod = max(maxprod, rprod, cprod, d1, d2)\n",
    "print(maxprod)\n",
    "# ----------------\n",
    "# 70600674\n",
    "# 100 loops, best of 3: 18.7 ms per loop"
   ]
  },
  {
   "cell_type": "markdown",
   "metadata": {
    "ein.tags": [
     "worksheet-0"
    ]
   },
   "source": [
    "# Optimized using Numba\n",
    "## Caustion: Numba jit doesn't work here - it slows down the program"
   ]
  },
  {
   "cell_type": "code",
   "execution_count": 6,
   "metadata": {
    "autoscroll": "json-false",
    "collapsed": false,
    "ein.tags": [
     "worksheet-0"
    ]
   },
   "outputs": [],
   "source": [
    "M = np.array([int(x) for x in raw_matrix.split()]).reshape(20,20)\n",
    "RM = M[::-1, ]  # flipping the array to get anti-diagonals"
   ]
  },
  {
   "cell_type": "code",
   "execution_count": 7,
   "metadata": {
    "autoscroll": "json-false",
    "collapsed": false,
    "ein.tags": [
     "worksheet-0"
    ]
   },
   "outputs": [],
   "source": [
    "from numba import jit"
   ]
  },
  {
   "cell_type": "code",
   "execution_count": 8,
   "metadata": {
    "autoscroll": "json-false",
    "collapsed": false,
    "ein.tags": [
     "worksheet-0"
    ]
   },
   "outputs": [],
   "source": [
    "@jit\n",
    "def maxprod_jit():\n",
    "    maxprod = 0\n",
    "    for i in range(20):\n",
    "        for j in range(20):\n",
    "            rprod = np.prod(M[i][j:j+4])\n",
    "            cprod = np.prod(M[:, j][i:i+4])\n",
    "            k = min(i,j)\n",
    "            d1 = np.prod(M.diagonal(j-i)[k:k+4])\n",
    "            d2 = np.prod(RM.diagonal(j-i)[k:k+4])\n",
    "            maxprod = max(maxprod, rprod, cprod, d1, d2)\n",
    "    return maxprod\n",
    "# ----------------\n",
    "# 70600674"
   ]
  },
  {
   "cell_type": "code",
   "execution_count": 9,
   "metadata": {
    "autoscroll": "json-false",
    "collapsed": false,
    "ein.tags": [
     "worksheet-0"
    ]
   },
   "outputs": [
    {
     "name": "stdout",
     "output_type": "stream",
     "text": [
      "The slowest run took 75.39 times longer than the fastest. This could mean that an intermediate result is being cached.\n",
      "1 loop, best of 3: 16.1 ms per loop\n"
     ]
    }
   ],
   "source": [
    "%timeit maxprod_jit()\n",
    "# 70600674"
   ]
  },
  {
   "cell_type": "markdown",
   "metadata": {
    "ein.tags": [
     "worksheet-0"
    ]
   },
   "source": [
    "# Optimized using Cython"
   ]
  },
  {
   "cell_type": "code",
   "execution_count": 10,
   "metadata": {
    "autoscroll": "json-false",
    "collapsed": false,
    "ein.tags": [
     "worksheet-0"
    ]
   },
   "outputs": [],
   "source": [
    "%load_ext cython"
   ]
  },
  {
   "cell_type": "code",
   "execution_count": 11,
   "metadata": {
    "autoscroll": "json-false",
    "collapsed": false,
    "ein.tags": [
     "worksheet-0"
    ]
   },
   "outputs": [],
   "source": [
    "%%cython\n",
    "import numpy\n",
    "\n",
    "cdef raw_matrix = '''08 02 22 97 38 15 00 40 00 75 04 05 07 78 52 12 50 77 91 08\n",
    "49 49 99 40 17 81 18 57 60 87 17 40 98 43 69 48 04 56 62 00\n",
    "81 49 31 73 55 79 14 29 93 71 40 67 53 88 30 03 49 13 36 65\n",
    "52 70 95 23 04 60 11 42 69 24 68 56 01 32 56 71 37 02 36 91\n",
    "22 31 16 71 51 67 63 89 41 92 36 54 22 40 40 28 66 33 13 80\n",
    "24 47 32 60 99 03 45 02 44 75 33 53 78 36 84 20 35 17 12 50\n",
    "32 98 81 28 64 23 67 10 26 38 40 67 59 54 70 66 18 38 64 70\n",
    "67 26 20 68 02 62 12 20 95 63 94 39 63 08 40 91 66 49 94 21\n",
    "24 55 58 05 66 73 99 26 97 17 78 78 96 83 14 88 34 89 63 72\n",
    "21 36 23 09 75 00 76 44 20 45 35 14 00 61 33 97 34 31 33 95\n",
    "78 17 53 28 22 75 31 67 15 94 03 80 04 62 16 14 09 53 56 92\n",
    "16 39 05 42 96 35 31 47 55 58 88 24 00 17 54 24 36 29 85 57\n",
    "86 56 00 48 35 71 89 07 05 44 44 37 44 60 21 58 51 54 17 58\n",
    "19 80 81 68 05 94 47 69 28 73 92 13 86 52 17 77 04 89 55 40\n",
    "04 52 08 83 97 35 99 16 07 97 57 32 16 26 26 79 33 27 98 66\n",
    "88 36 68 87 57 62 20 72 03 46 33 67 46 55 12 32 63 93 53 69\n",
    "04 42 16 73 38 25 39 11 24 94 72 18 08 46 29 32 40 62 76 36\n",
    "20 69 36 41 72 30 23 88 34 62 99 69 82 67 59 85 74 04 36 16\n",
    "20 73 35 29 78 31 90 01 74 31 49 71 48 86 81 16 23 57 05 54\n",
    "01 70 54 71 83 51 54 69 16 92 33 48 61 43 52 01 89 19 67 48'''\n",
    "\n",
    "cdef M = numpy.array([int(x) for x in raw_matrix.split()]).reshape(20,20)\n",
    "cdef RM = M[::-1, ]  # flipping the array to get anti-diagonals\n",
    "\n",
    "cpdef maxprod_cython():\n",
    "    cdef int maxprod = 0\n",
    "    for i in range(20):\n",
    "        for j in range(20):\n",
    "            rprod = numpy.prod(M[i][j:j+4])\n",
    "            cprod = numpy.prod(M[:, j][i:i+4])\n",
    "            k = min(i,j)\n",
    "            d1 = numpy.prod(M.diagonal(j-i)[k:k+4])\n",
    "            d2 = numpy.prod(RM.diagonal(j-i)[k:k+4])\n",
    "            maxprod = max(maxprod, rprod, cprod, d1, d2)\n",
    "    return maxprod"
   ]
  },
  {
   "cell_type": "code",
   "execution_count": 12,
   "metadata": {
    "autoscroll": "json-false",
    "collapsed": false,
    "ein.tags": [
     "worksheet-0"
    ]
   },
   "outputs": [
    {
     "name": "stdout",
     "output_type": "stream",
     "text": [
      "100 loops, best of 3: 13.8 ms per loop\n"
     ]
    }
   ],
   "source": [
    "%timeit maxprod_cython()\n",
    "# 70600674"
   ]
  },
  {
   "cell_type": "markdown",
   "metadata": {},
   "source": [
    "# Program from Project Naukai"
   ]
  },
  {
   "cell_type": "code",
   "execution_count": 15,
   "metadata": {
    "autoscroll": "json-false",
    "collapsed": false,
    "ein.tags": [
     "worksheet-0"
    ]
   },
   "outputs": [
    {
     "name": "stdout",
     "output_type": "stream",
     "text": [
      "70600674\n"
     ]
    }
   ],
   "source": [
    "# We visit each grid cell and compute the product in the 4 directions starting from that cell.\n",
    "def compute():\n",
    "\tans = -1\n",
    "\twidth = len(GRID[0])\n",
    "\theight = len(GRID)\n",
    "\tfor y in range(height):\n",
    "\t\tfor x in range(width):\n",
    "\t\t\tif x + CONSECUTIVE <= width:\n",
    "\t\t\t\tans = max(grid_product(x, y,  1, 0, CONSECUTIVE), ans)\n",
    "\t\t\tif y + CONSECUTIVE <= height:\n",
    "\t\t\t\tans = max(grid_product(x, y,  0, 1, CONSECUTIVE), ans)\n",
    "\t\t\tif x + CONSECUTIVE <= width and y + CONSECUTIVE <= height:\n",
    "\t\t\t\tans = max(grid_product(x, y,  1, 1, CONSECUTIVE), ans)\n",
    "\t\t\tif x - CONSECUTIVE >= -1    and y + CONSECUTIVE <= height:\n",
    "\t\t\t\tans = max(grid_product(x, y, -1, 1, CONSECUTIVE), ans)\n",
    "\treturn str(ans)\n",
    "\n",
    "\n",
    "def grid_product(ox, oy, dx, dy, n):\n",
    "\tresult = 1\n",
    "\tfor i in range(n):\n",
    "\t\tresult *= GRID[oy + i * dy][ox + i * dx]\n",
    "\treturn result\n",
    "\n",
    "\n",
    "GRID = [\n",
    "\t[ 8, 2,22,97,38,15, 0,40, 0,75, 4, 5, 7,78,52,12,50,77,91, 8],\n",
    "\t[49,49,99,40,17,81,18,57,60,87,17,40,98,43,69,48, 4,56,62, 0],\n",
    "\t[81,49,31,73,55,79,14,29,93,71,40,67,53,88,30, 3,49,13,36,65],\n",
    "\t[52,70,95,23, 4,60,11,42,69,24,68,56, 1,32,56,71,37, 2,36,91],\n",
    "\t[22,31,16,71,51,67,63,89,41,92,36,54,22,40,40,28,66,33,13,80],\n",
    "\t[24,47,32,60,99, 3,45, 2,44,75,33,53,78,36,84,20,35,17,12,50],\n",
    "\t[32,98,81,28,64,23,67,10,26,38,40,67,59,54,70,66,18,38,64,70],\n",
    "\t[67,26,20,68, 2,62,12,20,95,63,94,39,63, 8,40,91,66,49,94,21],\n",
    "\t[24,55,58, 5,66,73,99,26,97,17,78,78,96,83,14,88,34,89,63,72],\n",
    "\t[21,36,23, 9,75, 0,76,44,20,45,35,14, 0,61,33,97,34,31,33,95],\n",
    "\t[78,17,53,28,22,75,31,67,15,94, 3,80, 4,62,16,14, 9,53,56,92],\n",
    "\t[16,39, 5,42,96,35,31,47,55,58,88,24, 0,17,54,24,36,29,85,57],\n",
    "\t[86,56, 0,48,35,71,89, 7, 5,44,44,37,44,60,21,58,51,54,17,58],\n",
    "\t[19,80,81,68, 5,94,47,69,28,73,92,13,86,52,17,77, 4,89,55,40],\n",
    "\t[ 4,52, 8,83,97,35,99,16, 7,97,57,32,16,26,26,79,33,27,98,66],\n",
    "\t[88,36,68,87,57,62,20,72, 3,46,33,67,46,55,12,32,63,93,53,69],\n",
    "\t[ 4,42,16,73,38,25,39,11,24,94,72,18, 8,46,29,32,40,62,76,36],\n",
    "\t[20,69,36,41,72,30,23,88,34,62,99,69,82,67,59,85,74, 4,36,16],\n",
    "\t[20,73,35,29,78,31,90, 1,74,31,49,71,48,86,81,16,23,57, 5,54],\n",
    "\t[ 1,70,54,71,83,51,54,69,16,92,33,48,61,43,52, 1,89,19,67,48],\n",
    "]\n",
    "CONSECUTIVE = 4\n",
    "\n",
    "\n",
    "if __name__ == \"__main__\":\n",
    "\tprint(compute())"
   ]
  },
  {
   "cell_type": "code",
   "execution_count": 16,
   "metadata": {
    "collapsed": false
   },
   "outputs": [
    {
     "name": "stdout",
     "output_type": "stream",
     "text": [
      "100 loops, best of 3: 4.1 ms per loop\n"
     ]
    }
   ],
   "source": [
    "%timeit compute()"
   ]
  },
  {
   "cell_type": "markdown",
   "metadata": {},
   "source": [
    "# Nayukai Optimized with Numba"
   ]
  },
  {
   "cell_type": "code",
   "execution_count": 17,
   "metadata": {
    "collapsed": true
   },
   "outputs": [],
   "source": [
    "from numba import jit"
   ]
  },
  {
   "cell_type": "code",
   "execution_count": 18,
   "metadata": {
    "collapsed": false
   },
   "outputs": [
    {
     "name": "stdout",
     "output_type": "stream",
     "text": [
      "70600674\n"
     ]
    }
   ],
   "source": [
    "# We visit each grid cell and compute the product in the 4 directions starting from that cell.\n",
    "@jit\n",
    "def compute():\n",
    "\tans = -1\n",
    "\twidth = len(GRID[0])\n",
    "\theight = len(GRID)\n",
    "\tfor y in range(height):\n",
    "\t\tfor x in range(width):\n",
    "\t\t\tif x + CONSECUTIVE <= width:\n",
    "\t\t\t\tans = max(grid_product(x, y,  1, 0, CONSECUTIVE), ans)\n",
    "\t\t\tif y + CONSECUTIVE <= height:\n",
    "\t\t\t\tans = max(grid_product(x, y,  0, 1, CONSECUTIVE), ans)\n",
    "\t\t\tif x + CONSECUTIVE <= width and y + CONSECUTIVE <= height:\n",
    "\t\t\t\tans = max(grid_product(x, y,  1, 1, CONSECUTIVE), ans)\n",
    "\t\t\tif x - CONSECUTIVE >= -1    and y + CONSECUTIVE <= height:\n",
    "\t\t\t\tans = max(grid_product(x, y, -1, 1, CONSECUTIVE), ans)\n",
    "\treturn str(ans)\n",
    "\n",
    "@jit\n",
    "def grid_product(ox, oy, dx, dy, n):\n",
    "\tresult = 1\n",
    "\tfor i in range(n):\n",
    "\t\tresult *= GRID[oy + i * dy][ox + i * dx]\n",
    "\treturn result\n",
    "\n",
    "\n",
    "GRID = [\n",
    "\t[ 8, 2,22,97,38,15, 0,40, 0,75, 4, 5, 7,78,52,12,50,77,91, 8],\n",
    "\t[49,49,99,40,17,81,18,57,60,87,17,40,98,43,69,48, 4,56,62, 0],\n",
    "\t[81,49,31,73,55,79,14,29,93,71,40,67,53,88,30, 3,49,13,36,65],\n",
    "\t[52,70,95,23, 4,60,11,42,69,24,68,56, 1,32,56,71,37, 2,36,91],\n",
    "\t[22,31,16,71,51,67,63,89,41,92,36,54,22,40,40,28,66,33,13,80],\n",
    "\t[24,47,32,60,99, 3,45, 2,44,75,33,53,78,36,84,20,35,17,12,50],\n",
    "\t[32,98,81,28,64,23,67,10,26,38,40,67,59,54,70,66,18,38,64,70],\n",
    "\t[67,26,20,68, 2,62,12,20,95,63,94,39,63, 8,40,91,66,49,94,21],\n",
    "\t[24,55,58, 5,66,73,99,26,97,17,78,78,96,83,14,88,34,89,63,72],\n",
    "\t[21,36,23, 9,75, 0,76,44,20,45,35,14, 0,61,33,97,34,31,33,95],\n",
    "\t[78,17,53,28,22,75,31,67,15,94, 3,80, 4,62,16,14, 9,53,56,92],\n",
    "\t[16,39, 5,42,96,35,31,47,55,58,88,24, 0,17,54,24,36,29,85,57],\n",
    "\t[86,56, 0,48,35,71,89, 7, 5,44,44,37,44,60,21,58,51,54,17,58],\n",
    "\t[19,80,81,68, 5,94,47,69,28,73,92,13,86,52,17,77, 4,89,55,40],\n",
    "\t[ 4,52, 8,83,97,35,99,16, 7,97,57,32,16,26,26,79,33,27,98,66],\n",
    "\t[88,36,68,87,57,62,20,72, 3,46,33,67,46,55,12,32,63,93,53,69],\n",
    "\t[ 4,42,16,73,38,25,39,11,24,94,72,18, 8,46,29,32,40,62,76,36],\n",
    "\t[20,69,36,41,72,30,23,88,34,62,99,69,82,67,59,85,74, 4,36,16],\n",
    "\t[20,73,35,29,78,31,90, 1,74,31,49,71,48,86,81,16,23,57, 5,54],\n",
    "\t[ 1,70,54,71,83,51,54,69,16,92,33,48,61,43,52, 1,89,19,67,48],\n",
    "]\n",
    "CONSECUTIVE = 4\n",
    "\n",
    "\n",
    "if __name__ == \"__main__\":\n",
    "\tprint(compute())"
   ]
  },
  {
   "cell_type": "code",
   "execution_count": 19,
   "metadata": {
    "collapsed": false
   },
   "outputs": [
    {
     "data": {
      "text/plain": [
       "'70600674'"
      ]
     },
     "execution_count": 19,
     "metadata": {},
     "output_type": "execute_result"
    }
   ],
   "source": [
    "compute()"
   ]
  },
  {
   "cell_type": "code",
   "execution_count": 20,
   "metadata": {
    "collapsed": false
   },
   "outputs": [
    {
     "name": "stdout",
     "output_type": "stream",
     "text": [
      "100 loops, best of 3: 16.4 ms per loop\n"
     ]
    }
   ],
   "source": [
    "%timeit compute()"
   ]
  },
  {
   "cell_type": "markdown",
   "metadata": {},
   "source": [
    "# Optimized with Cython"
   ]
  },
  {
   "cell_type": "code",
   "execution_count": 21,
   "metadata": {
    "collapsed": false
   },
   "outputs": [
    {
     "name": "stdout",
     "output_type": "stream",
     "text": [
      "The cython extension is already loaded. To reload it, use:\n",
      "  %reload_ext cython\n"
     ]
    }
   ],
   "source": [
    "%load_ext cython"
   ]
  },
  {
   "cell_type": "code",
   "execution_count": 22,
   "metadata": {
    "collapsed": false
   },
   "outputs": [],
   "source": [
    "%%cython\n",
    "\n",
    "\n",
    "# We visit each grid cell and compute the product in the 4 directions starting from that cell.\n",
    "cpdef compute():\n",
    "\tans = -1\n",
    "\twidth = len(GRID[0])\n",
    "\theight = len(GRID)\n",
    "\tfor y in range(height):\n",
    "\t\tfor x in range(width):\n",
    "\t\t\tif x + CONSECUTIVE <= width:\n",
    "\t\t\t\tans = max(grid_product(x, y,  1, 0, CONSECUTIVE), ans)\n",
    "\t\t\tif y + CONSECUTIVE <= height:\n",
    "\t\t\t\tans = max(grid_product(x, y,  0, 1, CONSECUTIVE), ans)\n",
    "\t\t\tif x + CONSECUTIVE <= width and y + CONSECUTIVE <= height:\n",
    "\t\t\t\tans = max(grid_product(x, y,  1, 1, CONSECUTIVE), ans)\n",
    "\t\t\tif x - CONSECUTIVE >= -1    and y + CONSECUTIVE <= height:\n",
    "\t\t\t\tans = max(grid_product(x, y, -1, 1, CONSECUTIVE), ans)\n",
    "\treturn str(ans)\n",
    "\n",
    "\n",
    "cpdef grid_product(ox, oy, dx, dy, n):\n",
    "\tresult = 1\n",
    "\tfor i in range(n):\n",
    "\t\tresult *= GRID[oy + i * dy][ox + i * dx]\n",
    "\treturn result\n",
    "\n",
    "\n",
    "GRID = [\n",
    "\t[ 8, 2,22,97,38,15, 0,40, 0,75, 4, 5, 7,78,52,12,50,77,91, 8],\n",
    "\t[49,49,99,40,17,81,18,57,60,87,17,40,98,43,69,48, 4,56,62, 0],\n",
    "\t[81,49,31,73,55,79,14,29,93,71,40,67,53,88,30, 3,49,13,36,65],\n",
    "\t[52,70,95,23, 4,60,11,42,69,24,68,56, 1,32,56,71,37, 2,36,91],\n",
    "\t[22,31,16,71,51,67,63,89,41,92,36,54,22,40,40,28,66,33,13,80],\n",
    "\t[24,47,32,60,99, 3,45, 2,44,75,33,53,78,36,84,20,35,17,12,50],\n",
    "\t[32,98,81,28,64,23,67,10,26,38,40,67,59,54,70,66,18,38,64,70],\n",
    "\t[67,26,20,68, 2,62,12,20,95,63,94,39,63, 8,40,91,66,49,94,21],\n",
    "\t[24,55,58, 5,66,73,99,26,97,17,78,78,96,83,14,88,34,89,63,72],\n",
    "\t[21,36,23, 9,75, 0,76,44,20,45,35,14, 0,61,33,97,34,31,33,95],\n",
    "\t[78,17,53,28,22,75,31,67,15,94, 3,80, 4,62,16,14, 9,53,56,92],\n",
    "\t[16,39, 5,42,96,35,31,47,55,58,88,24, 0,17,54,24,36,29,85,57],\n",
    "\t[86,56, 0,48,35,71,89, 7, 5,44,44,37,44,60,21,58,51,54,17,58],\n",
    "\t[19,80,81,68, 5,94,47,69,28,73,92,13,86,52,17,77, 4,89,55,40],\n",
    "\t[ 4,52, 8,83,97,35,99,16, 7,97,57,32,16,26,26,79,33,27,98,66],\n",
    "\t[88,36,68,87,57,62,20,72, 3,46,33,67,46,55,12,32,63,93,53,69],\n",
    "\t[ 4,42,16,73,38,25,39,11,24,94,72,18, 8,46,29,32,40,62,76,36],\n",
    "\t[20,69,36,41,72,30,23,88,34,62,99,69,82,67,59,85,74, 4,36,16],\n",
    "\t[20,73,35,29,78,31,90, 1,74,31,49,71,48,86,81,16,23,57, 5,54],\n",
    "\t[ 1,70,54,71,83,51,54,69,16,92,33,48,61,43,52, 1,89,19,67,48],\n",
    "]\n",
    "CONSECUTIVE = 4\n",
    "\n",
    "\n",
    "# if __name__ == \"__main__\":\n",
    "# \tprint(compute())"
   ]
  },
  {
   "cell_type": "code",
   "execution_count": 23,
   "metadata": {
    "collapsed": false
   },
   "outputs": [
    {
     "data": {
      "text/plain": [
       "'70600674'"
      ]
     },
     "execution_count": 23,
     "metadata": {},
     "output_type": "execute_result"
    }
   ],
   "source": [
    "compute()"
   ]
  },
  {
   "cell_type": "code",
   "execution_count": 24,
   "metadata": {
    "collapsed": false
   },
   "outputs": [
    {
     "name": "stdout",
     "output_type": "stream",
     "text": [
      "100 loops, best of 3: 2 ms per loop\n"
     ]
    }
   ],
   "source": [
    "%timeit compute()"
   ]
  },
  {
   "cell_type": "code",
   "execution_count": null,
   "metadata": {
    "collapsed": true
   },
   "outputs": [],
   "source": []
  }
 ],
 "metadata": {
  "kernelspec": {
   "display_name": "Python 3",
   "language": "python",
   "name": "python3"
  },
  "language_info": {
   "codemirror_mode": {
    "name": "ipython",
    "version": 3
   },
   "file_extension": ".py",
   "mimetype": "text/x-python",
   "name": "python",
   "nbconvert_exporter": "python",
   "pygments_lexer": "ipython3",
   "version": "3.5.1"
  },
  "name": "project_euler_011_grid_product.ipynb"
 },
 "nbformat": 4,
 "nbformat_minor": 0
}
