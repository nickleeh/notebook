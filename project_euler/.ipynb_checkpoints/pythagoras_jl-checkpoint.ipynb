{
 "cells": [
  {
   "cell_type": "code",
   "execution_count": 26,
   "metadata": {
    "collapsed": false
   },
   "outputs": [
    {
     "data": {
      "text/plain": [
       "pythagoras_product (generic function with 2 methods)"
      ]
     },
     "execution_count": 26,
     "metadata": {},
     "output_type": "execute_result"
    }
   ],
   "source": [
    "function pythagoras_product(CEILING = 1000)\n",
    "    for a in 3 : div(CEILING, 3)\n",
    "        for b in (a+1) : div((CEILING - a), 2)\n",
    "            c = CEILING - a - b\n",
    "            if c < b\n",
    "                break\n",
    "            end\n",
    "            if a * a + b * b == c * c\n",
    "                return a, b, c, a * b * c\n",
    "            end\n",
    "        end\n",
    "    end\n",
    "end"
   ]
  },
  {
   "cell_type": "code",
   "execution_count": 27,
   "metadata": {
    "collapsed": false
   },
   "outputs": [
    {
     "name": "stdout",
     "output_type": "stream",
     "text": [
      "  0.031934 seconds (6.14 k allocations: 291.028 KB)\n"
     ]
    },
    {
     "data": {
      "text/plain": [
       "(200,375,425,31875000)"
      ]
     },
     "execution_count": 27,
     "metadata": {},
     "output_type": "execute_result"
    }
   ],
   "source": [
    "@time pythagoras_product()"
   ]
  },
  {
   "cell_type": "code",
   "execution_count": null,
   "metadata": {
    "collapsed": true
   },
   "outputs": [],
   "source": []
  }
 ],
 "metadata": {
  "kernelspec": {
   "display_name": "Julia 0.4.5",
   "language": "julia",
   "name": "julia-0.4"
  },
  "language_info": {
   "file_extension": ".jl",
   "mimetype": "application/julia",
   "name": "julia",
   "version": "0.4.5"
  }
 },
 "nbformat": 4,
 "nbformat_minor": 0
}
