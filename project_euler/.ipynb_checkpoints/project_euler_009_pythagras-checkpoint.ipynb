{
 "cells": [
  {
   "cell_type": "markdown",
   "metadata": {},
   "source": [
    "# Simple brute force"
   ]
  },
  {
   "cell_type": "code",
   "execution_count": 64,
   "metadata": {
    "collapsed": true
   },
   "outputs": [],
   "source": [
    "def pythagoras_product(CEILING = 500):\n",
    "    for a in range(3, CEILING // 3):\n",
    "        for b in range(a+1, (CEILING - a) // 2):\n",
    "            c = 1000 - a - b\n",
    "            if c < b:\n",
    "                break\n",
    "            if a*a + b*b == c*c:\n",
    "                return a, b, c, a*b*c"
   ]
  },
  {
   "cell_type": "code",
   "execution_count": 65,
   "metadata": {
    "collapsed": false
   },
   "outputs": [
    {
     "name": "stdout",
     "output_type": "stream",
     "text": [
      "100 loops, best of 3: 9.98 ms per loop\n"
     ]
    }
   ],
   "source": [
    "%timeit pythagoras_product()\n",
    "# a = 200\n",
    "# b = 375\n",
    "# c = 425\n",
    "# Products: 31875000\n",
    "# counter: 15918991"
   ]
  },
  {
   "cell_type": "markdown",
   "metadata": {},
   "source": [
    "# Optimized using Cython"
   ]
  },
  {
   "cell_type": "code",
   "execution_count": 37,
   "metadata": {
    "collapsed": false
   },
   "outputs": [
    {
     "name": "stdout",
     "output_type": "stream",
     "text": [
      "The Cython extension is already loaded. To reload it, use:\n",
      "  %reload_ext Cython\n"
     ]
    }
   ],
   "source": [
    "%load_ext Cython"
   ]
  },
  {
   "cell_type": "code",
   "execution_count": 70,
   "metadata": {
    "collapsed": false
   },
   "outputs": [],
   "source": [
    "%%cython \n",
    "cdef int c\n",
    "cpdef pythagoras_product_cython(CEILING = 500):\n",
    "    for a in range(3, CEILING // 3):\n",
    "        for b in range(a+1, (CEILING - a) // 2):\n",
    "            c = 1000 - a - b\n",
    "            if c < b:\n",
    "                break\n",
    "            if a*a + b*b == c*c:\n",
    "                return a, b, c, a*b*c"
   ]
  },
  {
   "cell_type": "code",
   "execution_count": 71,
   "metadata": {
    "collapsed": false
   },
   "outputs": [
    {
     "name": "stdout",
     "output_type": "stream",
     "text": [
      "100 loops, best of 3: 6.2 ms per loop\n"
     ]
    }
   ],
   "source": [
    "%timeit pythagoras_product_cython()\n",
    "# (200, 375, 425, 31875000)"
   ]
  },
  {
   "cell_type": "markdown",
   "metadata": {},
   "source": [
    "# Optimized using Numba JIT"
   ]
  },
  {
   "cell_type": "code",
   "execution_count": 54,
   "metadata": {
    "collapsed": true
   },
   "outputs": [],
   "source": [
    "from numba import jit"
   ]
  },
  {
   "cell_type": "code",
   "execution_count": 73,
   "metadata": {
    "collapsed": true
   },
   "outputs": [],
   "source": [
    "@jit\n",
    "def pythagoras_product_jit(CEILING = 500):\n",
    "    for a in range(3, CEILING // 3):\n",
    "        for b in range(a+1, (CEILING - a) // 2):\n",
    "            c = 1000 - a - b\n",
    "            if c < b:\n",
    "                break\n",
    "            if a*a + b*b == c*c:\n",
    "                return a, b, c, a*b*c"
   ]
  },
  {
   "cell_type": "code",
   "execution_count": 74,
   "metadata": {
    "collapsed": false
   },
   "outputs": [
    {
     "name": "stdout",
     "output_type": "stream",
     "text": [
      "The slowest run took 1596.56 times longer than the fastest. This could mean that an intermediate result is being cached.\n",
      "10000 loops, best of 3: 101 µs per loop\n"
     ]
    }
   ],
   "source": [
    "%timeit pythagoras_product_jit()\n",
    "# (200, 375, 425, 31875000)"
   ]
  },
  {
   "cell_type": "code",
   "execution_count": null,
   "metadata": {
    "collapsed": true
   },
   "outputs": [],
   "source": []
  }
 ],
 "metadata": {
  "kernelspec": {
   "display_name": "Python 3",
   "language": "python",
   "name": "python3"
  },
  "language_info": {
   "codemirror_mode": {
    "name": "ipython",
    "version": 3
   },
   "file_extension": ".py",
   "mimetype": "text/x-python",
   "name": "python",
   "nbconvert_exporter": "python",
   "pygments_lexer": "ipython3",
   "version": "3.5.1"
  }
 },
 "nbformat": 4,
 "nbformat_minor": 0
}
