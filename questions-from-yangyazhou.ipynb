{
 "cells": [
  {
   "cell_type": "markdown",
   "metadata": {},
   "source": [
    "# Format number with separator"
   ]
  },
  {
   "cell_type": "code",
   "execution_count": 6,
   "metadata": {
    "collapsed": false
   },
   "outputs": [
    {
     "data": {
      "text/plain": [
       "'3,038,037,222,496,806,247,855,722,722,222,527,758,841,883,515,934,547,112,829,364,135,689,931,862,059,457,013,274,724,360,792,757,699,418,531,319,807,617,797,249,339,444,992,884,327,615,743,636,225,652,362,165,278,734,855,849,335,292,293,949,268,825,107,361,221,313,073,154,682,287,648,505,140,844,362,905,122,356,296,948,938,162,199,545,710,849,418,221,893,436,622,343,116,853,283,678'"
      ]
     },
     "execution_count": 6,
     "metadata": {},
     "output_type": "execute_result"
    }
   ],
   "source": [
    "value = 3038037222496806247855722722222527758841883515934547112829364135689931862059457013274724360792757699418531319807617797249339444992884327615743636225652362165278734855849335292293949268825107361221313073154682287648505140844362905122356296948938162199545710849418221893436622343116853283678\n",
    "\"{:,}\".format(value)"
   ]
  },
  {
   "cell_type": "markdown",
   "metadata": {},
   "source": [
    "# Exchange keys and values in dictionary"
   ]
  },
  {
   "cell_type": "code",
   "execution_count": 7,
   "metadata": {
    "collapsed": false
   },
   "outputs": [],
   "source": [
    "import simplejson as json"
   ]
  },
  {
   "cell_type": "code",
   "execution_count": 28,
   "metadata": {
    "collapsed": false,
    "scrolled": true
   },
   "outputs": [],
   "source": [
    "with open('../Downloads/array.json') as fin:\n",
    "    data = json.load(fin)"
   ]
  },
  {
   "cell_type": "code",
   "execution_count": 34,
   "metadata": {
    "collapsed": false
   },
   "outputs": [
    {
     "data": {
      "text/plain": [
       "{'1': 3,\n",
       " '3': 27,\n",
       " '5': 243,\n",
       " '7': 2187,\n",
       " '8': 6561,\n",
       " 'a': 1,\n",
       " 'b': 9,\n",
       " 'g': 729,\n",
       " 'i': 81,\n",
       " 'ls': 19683}"
      ]
     },
     "execution_count": 34,
     "metadata": {},
     "output_type": "execute_result"
    }
   ],
   "source": [
    "data"
   ]
  },
  {
   "cell_type": "code",
   "execution_count": 31,
   "metadata": {
    "collapsed": false
   },
   "outputs": [],
   "source": [
    "res = {v:k for k,v in data.items()}"
   ]
  },
  {
   "cell_type": "code",
   "execution_count": 32,
   "metadata": {
    "collapsed": false
   },
   "outputs": [
    {
     "data": {
      "text/plain": [
       "{1: 'a',\n",
       " 3: '1',\n",
       " 9: 'b',\n",
       " 27: '3',\n",
       " 81: 'i',\n",
       " 243: '5',\n",
       " 729: 'g',\n",
       " 2187: '7',\n",
       " 6561: '8',\n",
       " 19683: 'ls'}"
      ]
     },
     "execution_count": 32,
     "metadata": {},
     "output_type": "execute_result"
    }
   ],
   "source": [
    "res"
   ]
  },
  {
   "cell_type": "code",
   "execution_count": 33,
   "metadata": {
    "collapsed": true
   },
   "outputs": [],
   "source": [
    "with open('exchange-kv.json', 'w') as f:\n",
    "    json.dump(res, f)"
   ]
  },
  {
   "cell_type": "markdown",
   "metadata": {},
   "source": [
    "# Special order"
   ]
  },
  {
   "cell_type": "code",
   "execution_count": 120,
   "metadata": {
    "collapsed": true
   },
   "outputs": [],
   "source": [
    "numbers = [10,50,329,9,283,1,374,2903,23,19 ]\n",
    "numbers.sort()"
   ]
  },
  {
   "cell_type": "code",
   "execution_count": 121,
   "metadata": {
    "collapsed": false
   },
   "outputs": [],
   "source": [
    "import collections"
   ]
  },
  {
   "cell_type": "code",
   "execution_count": 122,
   "metadata": {
    "collapsed": false
   },
   "outputs": [],
   "source": [
    "def special_order(numbers):\n",
    "    dq = collections.deque(numbers)\n",
    "    for x in range(len(numbers)):\n",
    "        if x%2 == 0:\n",
    "            numbers[x]=dq.pop()\n",
    "        else:\n",
    "            numbers[x]=dq.popleft()\n",
    "    return numbers"
   ]
  },
  {
   "cell_type": "code",
   "execution_count": 123,
   "metadata": {
    "collapsed": false
   },
   "outputs": [
    {
     "name": "stdout",
     "output_type": "stream",
     "text": [
      "100000 loops, best of 3: 5.3 µs per loop\n"
     ]
    }
   ],
   "source": [
    "%timeit special_order(numbers)"
   ]
  }
 ],
 "metadata": {
  "kernelspec": {
   "display_name": "Python 3",
   "language": "python",
   "name": "python3"
  },
  "language_info": {
   "codemirror_mode": {
    "name": "ipython",
    "version": 3
   },
   "file_extension": ".py",
   "mimetype": "text/x-python",
   "name": "python",
   "nbconvert_exporter": "python",
   "pygments_lexer": "ipython3",
   "version": "3.5.1"
  }
 },
 "nbformat": 4,
 "nbformat_minor": 0
}
