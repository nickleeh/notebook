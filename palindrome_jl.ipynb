{
 "cells": [
  {
   "cell_type": "code",
   "execution_count": 86,
   "metadata": {
    "collapsed": false
   },
   "outputs": [
    {
     "data": {
      "text/plain": [
       "is_palindrome (generic function with 1 method)"
      ]
     },
     "execution_count": 86,
     "metadata": {},
     "output_type": "execute_result"
    }
   ],
   "source": [
    "function is_palindrome(n)\n",
    "    s = string(n)\n",
    "    return s == reverse(s)\n",
    "end"
   ]
  },
  {
   "cell_type": "code",
   "execution_count": 87,
   "metadata": {
    "collapsed": false
   },
   "outputs": [
    {
     "data": {
      "text/plain": [
       "biggest (generic function with 1 method)"
      ]
     },
     "execution_count": 87,
     "metadata": {},
     "output_type": "execute_result"
    }
   ],
   "source": [
    "function biggest()\n",
    "    big_x, big_y, max_seen = 0, 0, 0\n",
    "    for x in 999:-1:100\n",
    "        for y in x:-1:100    # so we don't double count   \n",
    "            if x*y < max_seen\n",
    "                continue              # since we're decreasing, nothing else in the row can be bigger\n",
    "            end\n",
    "            if is_palindrome(x*y)\n",
    "                big_x, big_y, max_seen = x, y, x*y\n",
    "            end\n",
    "        end\n",
    "    end\n",
    "    return big_x, big_y, max_seen\n",
    "end"
   ]
  },
  {
   "cell_type": "code",
   "execution_count": 89,
   "metadata": {
    "collapsed": false
   },
   "outputs": [
    {
     "name": "stdout",
     "output_type": "stream",
     "text": [
      "  0.005099 seconds (24.50 k allocations: 1.122 MB)\n"
     ]
    },
    {
     "data": {
      "text/plain": [
       "(993,913,906609)"
      ]
     },
     "execution_count": 89,
     "metadata": {},
     "output_type": "execute_result"
    }
   ],
   "source": [
    "@time biggest()"
   ]
  },
  {
   "cell_type": "code",
   "execution_count": null,
   "metadata": {
    "collapsed": true
   },
   "outputs": [],
   "source": []
  }
 ],
 "metadata": {
  "kernelspec": {
   "display_name": "Julia 0.4.5",
   "language": "julia",
   "name": "julia-0.4"
  },
  "language_info": {
   "file_extension": ".jl",
   "mimetype": "application/julia",
   "name": "julia",
   "version": "0.4.5"
  }
 },
 "nbformat": 4,
 "nbformat_minor": 0
}
